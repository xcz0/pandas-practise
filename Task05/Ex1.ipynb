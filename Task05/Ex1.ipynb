{
 "metadata": {
  "language_info": {
   "codemirror_mode": {
    "name": "ipython",
    "version": 3
   },
   "file_extension": ".py",
   "mimetype": "text/x-python",
   "name": "python",
   "nbconvert_exporter": "python",
   "pygments_lexer": "ipython3",
   "version": "3.8.5-final"
  },
  "orig_nbformat": 2,
  "kernelspec": {
   "name": "python3",
   "display_name": "Python 3",
   "language": "python"
  }
 },
 "nbformat": 4,
 "nbformat_minor": 2,
 "cells": [
  {
   "cell_type": "code",
   "execution_count": 2,
   "metadata": {},
   "outputs": [
    {
     "output_type": "execute_result",
     "data": {
      "text/plain": [
       "   YYYY State COUNTY  SubstanceName  DrugReports\n",
       "0  2011    KY  ADAIR  Buprenorphine            3\n",
       "1  2012    KY  ADAIR  Buprenorphine            5\n",
       "2  2013    KY  ADAIR  Buprenorphine            4\n",
       "3  2014    KY  ADAIR  Buprenorphine           27\n",
       "4  2015    KY  ADAIR  Buprenorphine            5"
      ],
      "text/html": "<div>\n<style scoped>\n    .dataframe tbody tr th:only-of-type {\n        vertical-align: middle;\n    }\n\n    .dataframe tbody tr th {\n        vertical-align: top;\n    }\n\n    .dataframe thead th {\n        text-align: right;\n    }\n</style>\n<table border=\"1\" class=\"dataframe\">\n  <thead>\n    <tr style=\"text-align: right;\">\n      <th></th>\n      <th>YYYY</th>\n      <th>State</th>\n      <th>COUNTY</th>\n      <th>SubstanceName</th>\n      <th>DrugReports</th>\n    </tr>\n  </thead>\n  <tbody>\n    <tr>\n      <th>0</th>\n      <td>2011</td>\n      <td>KY</td>\n      <td>ADAIR</td>\n      <td>Buprenorphine</td>\n      <td>3</td>\n    </tr>\n    <tr>\n      <th>1</th>\n      <td>2012</td>\n      <td>KY</td>\n      <td>ADAIR</td>\n      <td>Buprenorphine</td>\n      <td>5</td>\n    </tr>\n    <tr>\n      <th>2</th>\n      <td>2013</td>\n      <td>KY</td>\n      <td>ADAIR</td>\n      <td>Buprenorphine</td>\n      <td>4</td>\n    </tr>\n    <tr>\n      <th>3</th>\n      <td>2014</td>\n      <td>KY</td>\n      <td>ADAIR</td>\n      <td>Buprenorphine</td>\n      <td>27</td>\n    </tr>\n    <tr>\n      <th>4</th>\n      <td>2015</td>\n      <td>KY</td>\n      <td>ADAIR</td>\n      <td>Buprenorphine</td>\n      <td>5</td>\n    </tr>\n  </tbody>\n</table>\n</div>"
     },
     "metadata": {},
     "execution_count": 2
    }
   ],
   "source": [
    "import pandas as pd\n",
    "import numpy as np\n",
    "df = pd.read_csv('../data/drugs.csv').sort_values(['State','COUNTY','SubstanceName'],ignore_index=True)\n",
    "df.head()"
   ]
  },
  {
   "cell_type": "code",
   "execution_count": 5,
   "metadata": {},
   "outputs": [
    {
     "output_type": "execute_result",
     "data": {
      "text/plain": [
       "  State COUNTY  SubstanceName  2010  2011  2012  2013  2014  2015  2016  2017\n",
       "0    KY  ADAIR  Buprenorphine   NaN   3.0   5.0   4.0  27.0   5.0   7.0  10.0\n",
       "1    KY  ADAIR        Codeine   NaN   NaN   1.0   NaN   NaN   NaN   NaN   1.0\n",
       "2    KY  ADAIR       Fentanyl   NaN   NaN   1.0   NaN   NaN   NaN   NaN   NaN\n",
       "3    KY  ADAIR         Heroin   NaN   NaN   1.0   2.0   NaN   1.0   NaN   2.0\n",
       "4    KY  ADAIR    Hydrocodone   6.0   9.0  10.0  10.0   9.0   7.0  11.0   3.0"
      ],
      "text/html": "<div>\n<style scoped>\n    .dataframe tbody tr th:only-of-type {\n        vertical-align: middle;\n    }\n\n    .dataframe tbody tr th {\n        vertical-align: top;\n    }\n\n    .dataframe thead th {\n        text-align: right;\n    }\n</style>\n<table border=\"1\" class=\"dataframe\">\n  <thead>\n    <tr style=\"text-align: right;\">\n      <th></th>\n      <th>State</th>\n      <th>COUNTY</th>\n      <th>SubstanceName</th>\n      <th>2010</th>\n      <th>2011</th>\n      <th>2012</th>\n      <th>2013</th>\n      <th>2014</th>\n      <th>2015</th>\n      <th>2016</th>\n      <th>2017</th>\n    </tr>\n  </thead>\n  <tbody>\n    <tr>\n      <th>0</th>\n      <td>KY</td>\n      <td>ADAIR</td>\n      <td>Buprenorphine</td>\n      <td>NaN</td>\n      <td>3.0</td>\n      <td>5.0</td>\n      <td>4.0</td>\n      <td>27.0</td>\n      <td>5.0</td>\n      <td>7.0</td>\n      <td>10.0</td>\n    </tr>\n    <tr>\n      <th>1</th>\n      <td>KY</td>\n      <td>ADAIR</td>\n      <td>Codeine</td>\n      <td>NaN</td>\n      <td>NaN</td>\n      <td>1.0</td>\n      <td>NaN</td>\n      <td>NaN</td>\n      <td>NaN</td>\n      <td>NaN</td>\n      <td>1.0</td>\n    </tr>\n    <tr>\n      <th>2</th>\n      <td>KY</td>\n      <td>ADAIR</td>\n      <td>Fentanyl</td>\n      <td>NaN</td>\n      <td>NaN</td>\n      <td>1.0</td>\n      <td>NaN</td>\n      <td>NaN</td>\n      <td>NaN</td>\n      <td>NaN</td>\n      <td>NaN</td>\n    </tr>\n    <tr>\n      <th>3</th>\n      <td>KY</td>\n      <td>ADAIR</td>\n      <td>Heroin</td>\n      <td>NaN</td>\n      <td>NaN</td>\n      <td>1.0</td>\n      <td>2.0</td>\n      <td>NaN</td>\n      <td>1.0</td>\n      <td>NaN</td>\n      <td>2.0</td>\n    </tr>\n    <tr>\n      <th>4</th>\n      <td>KY</td>\n      <td>ADAIR</td>\n      <td>Hydrocodone</td>\n      <td>6.0</td>\n      <td>9.0</td>\n      <td>10.0</td>\n      <td>10.0</td>\n      <td>9.0</td>\n      <td>7.0</td>\n      <td>11.0</td>\n      <td>3.0</td>\n    </tr>\n  </tbody>\n</table>\n</div>"
     },
     "metadata": {},
     "execution_count": 5
    }
   ],
   "source": [
    "res = df.pivot(index=['State','COUNTY','SubstanceName'], columns='YYYY', values='DrugReports').reset_index().rename_axis(columns={'YYYY':''})\n",
    "res.head()"
   ]
  },
  {
   "cell_type": "code",
   "execution_count": null,
   "metadata": {},
   "outputs": [],
   "source": [
    "res_melted = res.melt(id_vars = ['State','COUNTY','SubstanceName'],value_vars = res.columns[-8:],var_name = 'YYYY',value_name = 'DrugReports').dropna(subset=['DrugReports'])\n",
    "\n",
    "res_melted = res_melted[df.columns].sort_values(['State','COUNTY','SubstanceName'],ignore_index=True).astype({'YYYY':'int64', 'DrugReports':'int64'})\n",
    "res_melted.head()"
   ]
  },
  {
   "cell_type": "code",
   "execution_count": 7,
   "metadata": {},
   "outputs": [
    {
     "output_type": "execute_result",
     "data": {
      "text/plain": [
       "State     KY     OH     PA     VA    WV\n",
       "YYYY                                   \n",
       "2010   10453  19707  19814   8685  2890\n",
       "2011   10289  20330  19987   6749  3271\n",
       "2012   10722  23145  19959   7831  3376\n",
       "2013   11148  26846  20409  11675  4046\n",
       "2014   11081  30860  24904   9037  3280\n",
       "2015    9865  37127  25651   8810  2571\n",
       "2016    9093  42470  26164  10195  2548\n",
       "2017    9394  46104  27894  10448  1614"
      ],
      "text/html": "<div>\n<style scoped>\n    .dataframe tbody tr th:only-of-type {\n        vertical-align: middle;\n    }\n\n    .dataframe tbody tr th {\n        vertical-align: top;\n    }\n\n    .dataframe thead th {\n        text-align: right;\n    }\n</style>\n<table border=\"1\" class=\"dataframe\">\n  <thead>\n    <tr style=\"text-align: right;\">\n      <th>State</th>\n      <th>KY</th>\n      <th>OH</th>\n      <th>PA</th>\n      <th>VA</th>\n      <th>WV</th>\n    </tr>\n    <tr>\n      <th>YYYY</th>\n      <th></th>\n      <th></th>\n      <th></th>\n      <th></th>\n      <th></th>\n    </tr>\n  </thead>\n  <tbody>\n    <tr>\n      <th>2010</th>\n      <td>10453</td>\n      <td>19707</td>\n      <td>19814</td>\n      <td>8685</td>\n      <td>2890</td>\n    </tr>\n    <tr>\n      <th>2011</th>\n      <td>10289</td>\n      <td>20330</td>\n      <td>19987</td>\n      <td>6749</td>\n      <td>3271</td>\n    </tr>\n    <tr>\n      <th>2012</th>\n      <td>10722</td>\n      <td>23145</td>\n      <td>19959</td>\n      <td>7831</td>\n      <td>3376</td>\n    </tr>\n    <tr>\n      <th>2013</th>\n      <td>11148</td>\n      <td>26846</td>\n      <td>20409</td>\n      <td>11675</td>\n      <td>4046</td>\n    </tr>\n    <tr>\n      <th>2014</th>\n      <td>11081</td>\n      <td>30860</td>\n      <td>24904</td>\n      <td>9037</td>\n      <td>3280</td>\n    </tr>\n    <tr>\n      <th>2015</th>\n      <td>9865</td>\n      <td>37127</td>\n      <td>25651</td>\n      <td>8810</td>\n      <td>2571</td>\n    </tr>\n    <tr>\n      <th>2016</th>\n      <td>9093</td>\n      <td>42470</td>\n      <td>26164</td>\n      <td>10195</td>\n      <td>2548</td>\n    </tr>\n    <tr>\n      <th>2017</th>\n      <td>9394</td>\n      <td>46104</td>\n      <td>27894</td>\n      <td>10448</td>\n      <td>1614</td>\n    </tr>\n  </tbody>\n</table>\n</div>"
     },
     "metadata": {},
     "execution_count": 7
    }
   ],
   "source": [
    "df.pivot_table(index='YYYY', columns='State',values='DrugReports', aggfunc='sum')"
   ]
  },
  {
   "cell_type": "code",
   "execution_count": 11,
   "metadata": {},
   "outputs": [
    {
     "output_type": "execute_result",
     "data": {
      "text/plain": [
       "State     KY     OH     PA     VA    WV\n",
       "YYYY                                   \n",
       "2010   10453  19707  19814   8685  2890\n",
       "2011   10289  20330  19987   6749  3271\n",
       "2012   10722  23145  19959   7831  3376\n",
       "2013   11148  26846  20409  11675  4046\n",
       "2014   11081  30860  24904   9037  3280\n",
       "2015    9865  37127  25651   8810  2571\n",
       "2016    9093  42470  26164  10195  2548\n",
       "2017    9394  46104  27894  10448  1614"
      ],
      "text/html": "<div>\n<style scoped>\n    .dataframe tbody tr th:only-of-type {\n        vertical-align: middle;\n    }\n\n    .dataframe tbody tr th {\n        vertical-align: top;\n    }\n\n    .dataframe thead th {\n        text-align: right;\n    }\n</style>\n<table border=\"1\" class=\"dataframe\">\n  <thead>\n    <tr style=\"text-align: right;\">\n      <th>State</th>\n      <th>KY</th>\n      <th>OH</th>\n      <th>PA</th>\n      <th>VA</th>\n      <th>WV</th>\n    </tr>\n    <tr>\n      <th>YYYY</th>\n      <th></th>\n      <th></th>\n      <th></th>\n      <th></th>\n      <th></th>\n    </tr>\n  </thead>\n  <tbody>\n    <tr>\n      <th>2010</th>\n      <td>10453</td>\n      <td>19707</td>\n      <td>19814</td>\n      <td>8685</td>\n      <td>2890</td>\n    </tr>\n    <tr>\n      <th>2011</th>\n      <td>10289</td>\n      <td>20330</td>\n      <td>19987</td>\n      <td>6749</td>\n      <td>3271</td>\n    </tr>\n    <tr>\n      <th>2012</th>\n      <td>10722</td>\n      <td>23145</td>\n      <td>19959</td>\n      <td>7831</td>\n      <td>3376</td>\n    </tr>\n    <tr>\n      <th>2013</th>\n      <td>11148</td>\n      <td>26846</td>\n      <td>20409</td>\n      <td>11675</td>\n      <td>4046</td>\n    </tr>\n    <tr>\n      <th>2014</th>\n      <td>11081</td>\n      <td>30860</td>\n      <td>24904</td>\n      <td>9037</td>\n      <td>3280</td>\n    </tr>\n    <tr>\n      <th>2015</th>\n      <td>9865</td>\n      <td>37127</td>\n      <td>25651</td>\n      <td>8810</td>\n      <td>2571</td>\n    </tr>\n    <tr>\n      <th>2016</th>\n      <td>9093</td>\n      <td>42470</td>\n      <td>26164</td>\n      <td>10195</td>\n      <td>2548</td>\n    </tr>\n    <tr>\n      <th>2017</th>\n      <td>9394</td>\n      <td>46104</td>\n      <td>27894</td>\n      <td>10448</td>\n      <td>1614</td>\n    </tr>\n  </tbody>\n</table>\n</div>"
     },
     "metadata": {},
     "execution_count": 11
    }
   ],
   "source": [
    "df.groupby(['YYYY','State'])['DrugReports'].agg('sum').unstack()"
   ]
  },
  {
   "source": [
    "两者使用的参数相同"
   ],
   "cell_type": "markdown",
   "metadata": {}
  }
 ]
}