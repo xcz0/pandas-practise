{
 "metadata": {
  "language_info": {
   "codemirror_mode": {
    "name": "ipython",
    "version": 3
   },
   "file_extension": ".py",
   "mimetype": "text/x-python",
   "name": "python",
   "nbconvert_exporter": "python",
   "pygments_lexer": "ipython3",
   "version": "3.8.5-final"
  },
  "orig_nbformat": 2,
  "kernelspec": {
   "name": "python3",
   "display_name": "Python 3",
   "language": "python"
  }
 },
 "nbformat": 4,
 "nbformat_minor": 2,
 "cells": [
  {
   "cell_type": "code",
   "execution_count": 1,
   "metadata": {},
   "outputs": [
    {
     "output_type": "execute_result",
     "data": {
      "text/plain": [
       "             Brand  Price    Country  Reliability  Mileage   Type  Weight  \\\n",
       "0   Eagle Summit 4   8895        USA          4.0       33  Small    2560   \n",
       "1  Ford Escort   4   7402        USA          2.0       33  Small    2345   \n",
       "2   Ford Festiva 4   6319      Korea          4.0       37  Small    1845   \n",
       "3    Honda Civic 4   6635  Japan/USA          5.0       32  Small    2260   \n",
       "4  Mazda Protege 4   6599      Japan          5.0       32  Small    2440   \n",
       "\n",
       "   Disp.   HP  \n",
       "0     97  113  \n",
       "1    114   90  \n",
       "2     81   63  \n",
       "3     91   92  \n",
       "4    113  103  "
      ],
      "text/html": "<div>\n<style scoped>\n    .dataframe tbody tr th:only-of-type {\n        vertical-align: middle;\n    }\n\n    .dataframe tbody tr th {\n        vertical-align: top;\n    }\n\n    .dataframe thead th {\n        text-align: right;\n    }\n</style>\n<table border=\"1\" class=\"dataframe\">\n  <thead>\n    <tr style=\"text-align: right;\">\n      <th></th>\n      <th>Brand</th>\n      <th>Price</th>\n      <th>Country</th>\n      <th>Reliability</th>\n      <th>Mileage</th>\n      <th>Type</th>\n      <th>Weight</th>\n      <th>Disp.</th>\n      <th>HP</th>\n    </tr>\n  </thead>\n  <tbody>\n    <tr>\n      <th>0</th>\n      <td>Eagle Summit 4</td>\n      <td>8895</td>\n      <td>USA</td>\n      <td>4.0</td>\n      <td>33</td>\n      <td>Small</td>\n      <td>2560</td>\n      <td>97</td>\n      <td>113</td>\n    </tr>\n    <tr>\n      <th>1</th>\n      <td>Ford Escort   4</td>\n      <td>7402</td>\n      <td>USA</td>\n      <td>2.0</td>\n      <td>33</td>\n      <td>Small</td>\n      <td>2345</td>\n      <td>114</td>\n      <td>90</td>\n    </tr>\n    <tr>\n      <th>2</th>\n      <td>Ford Festiva 4</td>\n      <td>6319</td>\n      <td>Korea</td>\n      <td>4.0</td>\n      <td>37</td>\n      <td>Small</td>\n      <td>1845</td>\n      <td>81</td>\n      <td>63</td>\n    </tr>\n    <tr>\n      <th>3</th>\n      <td>Honda Civic 4</td>\n      <td>6635</td>\n      <td>Japan/USA</td>\n      <td>5.0</td>\n      <td>32</td>\n      <td>Small</td>\n      <td>2260</td>\n      <td>91</td>\n      <td>92</td>\n    </tr>\n    <tr>\n      <th>4</th>\n      <td>Mazda Protege 4</td>\n      <td>6599</td>\n      <td>Japan</td>\n      <td>5.0</td>\n      <td>32</td>\n      <td>Small</td>\n      <td>2440</td>\n      <td>113</td>\n      <td>103</td>\n    </tr>\n  </tbody>\n</table>\n</div>"
     },
     "metadata": {},
     "execution_count": 1
    }
   ],
   "source": [
    "import numpy as np\n",
    "import pandas as pd\n",
    "df = pd.read_csv('../data/car.csv')\n",
    "df.head()"
   ]
  },
  {
   "cell_type": "code",
   "execution_count": null,
   "metadata": {},
   "outputs": [],
   "source": []
  }
 ]
}