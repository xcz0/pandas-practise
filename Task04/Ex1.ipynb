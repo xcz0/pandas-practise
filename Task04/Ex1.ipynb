{
 "metadata": {
  "language_info": {
   "codemirror_mode": {
    "name": "ipython",
    "version": 3
   },
   "file_extension": ".py",
   "mimetype": "text/x-python",
   "name": "python",
   "nbconvert_exporter": "python",
   "pygments_lexer": "ipython3",
   "version": "3.8.5-final"
  },
  "orig_nbformat": 2,
  "kernelspec": {
   "name": "python3",
   "display_name": "Python 3",
   "language": "python"
  }
 },
 "nbformat": 4,
 "nbformat_minor": 2,
 "cells": [
  {
   "cell_type": "code",
   "execution_count": 1,
   "metadata": {},
   "outputs": [
    {
     "output_type": "execute_result",
     "data": {
      "text/plain": [
       "             Brand  Price    Country  Reliability  Mileage   Type  Weight  \\\n",
       "0   Eagle Summit 4   8895        USA          4.0       33  Small    2560   \n",
       "1  Ford Escort   4   7402        USA          2.0       33  Small    2345   \n",
       "2   Ford Festiva 4   6319      Korea          4.0       37  Small    1845   \n",
       "3    Honda Civic 4   6635  Japan/USA          5.0       32  Small    2260   \n",
       "4  Mazda Protege 4   6599      Japan          5.0       32  Small    2440   \n",
       "\n",
       "   Disp.   HP  \n",
       "0     97  113  \n",
       "1    114   90  \n",
       "2     81   63  \n",
       "3     91   92  \n",
       "4    113  103  "
      ],
      "text/html": "<div>\n<style scoped>\n    .dataframe tbody tr th:only-of-type {\n        vertical-align: middle;\n    }\n\n    .dataframe tbody tr th {\n        vertical-align: top;\n    }\n\n    .dataframe thead th {\n        text-align: right;\n    }\n</style>\n<table border=\"1\" class=\"dataframe\">\n  <thead>\n    <tr style=\"text-align: right;\">\n      <th></th>\n      <th>Brand</th>\n      <th>Price</th>\n      <th>Country</th>\n      <th>Reliability</th>\n      <th>Mileage</th>\n      <th>Type</th>\n      <th>Weight</th>\n      <th>Disp.</th>\n      <th>HP</th>\n    </tr>\n  </thead>\n  <tbody>\n    <tr>\n      <th>0</th>\n      <td>Eagle Summit 4</td>\n      <td>8895</td>\n      <td>USA</td>\n      <td>4.0</td>\n      <td>33</td>\n      <td>Small</td>\n      <td>2560</td>\n      <td>97</td>\n      <td>113</td>\n    </tr>\n    <tr>\n      <th>1</th>\n      <td>Ford Escort   4</td>\n      <td>7402</td>\n      <td>USA</td>\n      <td>2.0</td>\n      <td>33</td>\n      <td>Small</td>\n      <td>2345</td>\n      <td>114</td>\n      <td>90</td>\n    </tr>\n    <tr>\n      <th>2</th>\n      <td>Ford Festiva 4</td>\n      <td>6319</td>\n      <td>Korea</td>\n      <td>4.0</td>\n      <td>37</td>\n      <td>Small</td>\n      <td>1845</td>\n      <td>81</td>\n      <td>63</td>\n    </tr>\n    <tr>\n      <th>3</th>\n      <td>Honda Civic 4</td>\n      <td>6635</td>\n      <td>Japan/USA</td>\n      <td>5.0</td>\n      <td>32</td>\n      <td>Small</td>\n      <td>2260</td>\n      <td>91</td>\n      <td>92</td>\n    </tr>\n    <tr>\n      <th>4</th>\n      <td>Mazda Protege 4</td>\n      <td>6599</td>\n      <td>Japan</td>\n      <td>5.0</td>\n      <td>32</td>\n      <td>Small</td>\n      <td>2440</td>\n      <td>113</td>\n      <td>103</td>\n    </tr>\n  </tbody>\n</table>\n</div>"
     },
     "metadata": {},
     "execution_count": 1
    }
   ],
   "source": [
    "import numpy as np\n",
    "import pandas as pd\n",
    "df = pd.read_csv('../data/car.csv')\n",
    "df.head()"
   ]
  },
  {
   "cell_type": "code",
   "execution_count": 2,
   "metadata": {},
   "outputs": [
    {
     "output_type": "execute_result",
     "data": {
      "text/plain": [
       "                   mean  count       CoV\n",
       "Country                                 \n",
       "Japan      13938.052632     19  0.387429\n",
       "Japan/USA  10067.571429      7  0.240040\n",
       "Korea       7857.333333      3  0.243435\n",
       "USA        12543.269231     26  0.203344"
      ],
      "text/html": "<div>\n<style scoped>\n    .dataframe tbody tr th:only-of-type {\n        vertical-align: middle;\n    }\n\n    .dataframe tbody tr th {\n        vertical-align: top;\n    }\n\n    .dataframe thead th {\n        text-align: right;\n    }\n</style>\n<table border=\"1\" class=\"dataframe\">\n  <thead>\n    <tr style=\"text-align: right;\">\n      <th></th>\n      <th>mean</th>\n      <th>count</th>\n      <th>CoV</th>\n    </tr>\n    <tr>\n      <th>Country</th>\n      <th></th>\n      <th></th>\n      <th></th>\n    </tr>\n  </thead>\n  <tbody>\n    <tr>\n      <th>Japan</th>\n      <td>13938.052632</td>\n      <td>19</td>\n      <td>0.387429</td>\n    </tr>\n    <tr>\n      <th>Japan/USA</th>\n      <td>10067.571429</td>\n      <td>7</td>\n      <td>0.240040</td>\n    </tr>\n    <tr>\n      <th>Korea</th>\n      <td>7857.333333</td>\n      <td>3</td>\n      <td>0.243435</td>\n    </tr>\n    <tr>\n      <th>USA</th>\n      <td>12543.269231</td>\n      <td>26</td>\n      <td>0.203344</td>\n    </tr>\n  </tbody>\n</table>\n</div>"
     },
     "metadata": {},
     "execution_count": 2
    }
   ],
   "source": [
    "df.groupby('Country').filter(lambda x: x.shape[0] > 2).groupby('Country')['Price'].agg(['mean','count',('CoV',lambda x:x.std()/x.mean())])"
   ]
  },
  {
   "cell_type": "code",
   "execution_count": 3,
   "metadata": {},
   "outputs": [
    {
     "output_type": "execute_result",
     "data": {
      "text/plain": [
       "behind     15420.65\n",
       "front       9069.95\n",
       "midddle    13356.40\n",
       "Name: Price, dtype: float64"
      ]
     },
     "metadata": {},
     "execution_count": 3
    }
   ],
   "source": [
    "#先构建等长标示列表\n",
    "idx=['front']*(df.shape[0]//3)+['midddle']*(df.shape[0]//3)+['behind']*(df.shape[0]-df.shape[0]//3*2)\n",
    "df.groupby(idx)['Price'].mean()"
   ]
  },
  {
   "cell_type": "code",
   "execution_count": 4,
   "metadata": {},
   "outputs": [
    {
     "output_type": "execute_result",
     "data": {
      "text/plain": [
       "         Price_max  HP_min\n",
       "Type                      \n",
       "Compact      18900      95\n",
       "Large        17257     150\n",
       "Medium       24760     110\n",
       "Small         9995      63\n",
       "Sporty       13945      92"
      ],
      "text/html": "<div>\n<style scoped>\n    .dataframe tbody tr th:only-of-type {\n        vertical-align: middle;\n    }\n\n    .dataframe tbody tr th {\n        vertical-align: top;\n    }\n\n    .dataframe thead th {\n        text-align: right;\n    }\n</style>\n<table border=\"1\" class=\"dataframe\">\n  <thead>\n    <tr style=\"text-align: right;\">\n      <th></th>\n      <th>Price_max</th>\n      <th>HP_min</th>\n    </tr>\n    <tr>\n      <th>Type</th>\n      <th></th>\n      <th></th>\n    </tr>\n  </thead>\n  <tbody>\n    <tr>\n      <th>Compact</th>\n      <td>18900</td>\n      <td>95</td>\n    </tr>\n    <tr>\n      <th>Large</th>\n      <td>17257</td>\n      <td>150</td>\n    </tr>\n    <tr>\n      <th>Medium</th>\n      <td>24760</td>\n      <td>110</td>\n    </tr>\n    <tr>\n      <th>Small</th>\n      <td>9995</td>\n      <td>63</td>\n    </tr>\n    <tr>\n      <th>Sporty</th>\n      <td>13945</td>\n      <td>92</td>\n    </tr>\n  </tbody>\n</table>\n</div>"
     },
     "metadata": {},
     "execution_count": 4
    }
   ],
   "source": [
    "df1=df.groupby('Type')[['Price','HP']].agg({'Price': ['max'], 'HP': ['min']})\n",
    "df1.columns=df1.columns.map(lambda x: x[0]+'_'+x[1])\n",
    "df1.head()"
   ]
  },
  {
   "cell_type": "code",
   "execution_count": 5,
   "metadata": {},
   "outputs": [
    {
     "output_type": "execute_result",
     "data": {
      "text/plain": [
       "0    1.00\n",
       "1    0.54\n",
       "2    0.00\n",
       "3    0.58\n",
       "4    0.80\n",
       "Name: HP, dtype: float64"
      ]
     },
     "metadata": {},
     "execution_count": 5
    }
   ],
   "source": [
    "df.groupby('Type')['HP'].transform(lambda x:(x-x.min())/(x.max()-x.min())).head()"
   ]
  },
  {
   "cell_type": "code",
   "execution_count": 6,
   "metadata": {},
   "outputs": [
    {
     "output_type": "execute_result",
     "data": {
      "text/plain": [
       "Type\n",
       "Compact    0.586087\n",
       "Large     -0.242765\n",
       "Medium     0.370491\n",
       "Small      0.603916\n",
       "Sporty     0.871426\n",
       "dtype: float64"
      ]
     },
     "metadata": {},
     "execution_count": 6
    }
   ],
   "source": [
    "df.groupby('Type')['Disp.','HP'].apply(lambda x:x['Disp.'].corr(x['HP'], method='pearson')).head() #通过 Series.corr 获得相关系数值"
   ]
  }
 ]
}