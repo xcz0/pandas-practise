{
 "metadata": {
  "language_info": {
   "codemirror_mode": {
    "name": "ipython",
    "version": 3
   },
   "file_extension": ".py",
   "mimetype": "text/x-python",
   "name": "python",
   "nbconvert_exporter": "python",
   "pygments_lexer": "ipython3",
   "version": "3.8.5-final"
  },
  "orig_nbformat": 2,
  "kernelspec": {
   "name": "python3",
   "display_name": "Python 3",
   "language": "python"
  }
 },
 "nbformat": 4,
 "nbformat_minor": 2,
 "cells": [
  {
   "cell_type": "code",
   "execution_count": 1,
   "metadata": {},
   "outputs": [
    {
     "output_type": "execute_result",
     "data": {
      "text/plain": [
       "   carat      cut clarity  price\n",
       "0   0.23    Ideal     SI2    326\n",
       "1   0.21  Premium     SI1    326\n",
       "2   0.23     Good     VS1    327\n",
       "3   0.29  Premium     VS2    334\n",
       "4   0.31     Good     SI2    335"
      ],
      "text/html": "<div>\n<style scoped>\n    .dataframe tbody tr th:only-of-type {\n        vertical-align: middle;\n    }\n\n    .dataframe tbody tr th {\n        vertical-align: top;\n    }\n\n    .dataframe thead th {\n        text-align: right;\n    }\n</style>\n<table border=\"1\" class=\"dataframe\">\n  <thead>\n    <tr style=\"text-align: right;\">\n      <th></th>\n      <th>carat</th>\n      <th>cut</th>\n      <th>clarity</th>\n      <th>price</th>\n    </tr>\n  </thead>\n  <tbody>\n    <tr>\n      <th>0</th>\n      <td>0.23</td>\n      <td>Ideal</td>\n      <td>SI2</td>\n      <td>326</td>\n    </tr>\n    <tr>\n      <th>1</th>\n      <td>0.21</td>\n      <td>Premium</td>\n      <td>SI1</td>\n      <td>326</td>\n    </tr>\n    <tr>\n      <th>2</th>\n      <td>0.23</td>\n      <td>Good</td>\n      <td>VS1</td>\n      <td>327</td>\n    </tr>\n    <tr>\n      <th>3</th>\n      <td>0.29</td>\n      <td>Premium</td>\n      <td>VS2</td>\n      <td>334</td>\n    </tr>\n    <tr>\n      <th>4</th>\n      <td>0.31</td>\n      <td>Good</td>\n      <td>SI2</td>\n      <td>335</td>\n    </tr>\n  </tbody>\n</table>\n</div>"
     },
     "metadata": {},
     "execution_count": 1
    }
   ],
   "source": [
    "import pandas as pd\n",
    "import numpy as np\n",
    "df = pd.read_csv('../data/diamonds.csv')\n",
    "df.head()"
   ]
  },
  {
   "cell_type": "code",
   "execution_count": 2,
   "metadata": {},
   "outputs": [],
   "source": [
    "s_obj = df.cut\n",
    "s_cat = df.cut.astype('category')"
   ]
  },
  {
   "cell_type": "code",
   "execution_count": 3,
   "metadata": {},
   "outputs": [
    {
     "output_type": "stream",
     "name": "stdout",
     "text": [
      "721 µs ± 203 µs per loop (mean ± std. dev. of 7 runs, 30 loops each)\n"
     ]
    }
   ],
   "source": [
    "%timeit -n 30 s_cat.nunique()"
   ]
  },
  {
   "cell_type": "code",
   "execution_count": 4,
   "metadata": {},
   "outputs": [
    {
     "output_type": "stream",
     "name": "stdout",
     "text": [
      "703 µs ± 91.8 µs per loop (mean ± std. dev. of 7 runs, 30 loops each)\n"
     ]
    }
   ],
   "source": [
    "%timeit -n 30 s_cat.nunique()"
   ]
  },
  {
   "cell_type": "code",
   "execution_count": 5,
   "metadata": {},
   "outputs": [
    {
     "output_type": "execute_result",
     "data": {
      "text/plain": [
       "       carat    cut clarity  price\n",
       "315     0.96  Ideal      I1   2801\n",
       "535     0.96  Ideal      I1   2826\n",
       "551     0.97  Ideal      I1   2830\n",
       "653     1.01  Ideal      I1   2844\n",
       "718     0.97  Ideal      I1   2856\n",
       "...      ...    ...     ...    ...\n",
       "41242   0.30   Fair      IF   1208\n",
       "43778   0.37   Fair      IF   1440\n",
       "47407   0.52   Fair      IF   1849\n",
       "49683   0.52   Fair      IF   2144\n",
       "50126   0.47   Fair      IF   2211\n",
       "\n",
       "[53940 rows x 4 columns]"
      ],
      "text/html": "<div>\n<style scoped>\n    .dataframe tbody tr th:only-of-type {\n        vertical-align: middle;\n    }\n\n    .dataframe tbody tr th {\n        vertical-align: top;\n    }\n\n    .dataframe thead th {\n        text-align: right;\n    }\n</style>\n<table border=\"1\" class=\"dataframe\">\n  <thead>\n    <tr style=\"text-align: right;\">\n      <th></th>\n      <th>carat</th>\n      <th>cut</th>\n      <th>clarity</th>\n      <th>price</th>\n    </tr>\n  </thead>\n  <tbody>\n    <tr>\n      <th>315</th>\n      <td>0.96</td>\n      <td>Ideal</td>\n      <td>I1</td>\n      <td>2801</td>\n    </tr>\n    <tr>\n      <th>535</th>\n      <td>0.96</td>\n      <td>Ideal</td>\n      <td>I1</td>\n      <td>2826</td>\n    </tr>\n    <tr>\n      <th>551</th>\n      <td>0.97</td>\n      <td>Ideal</td>\n      <td>I1</td>\n      <td>2830</td>\n    </tr>\n    <tr>\n      <th>653</th>\n      <td>1.01</td>\n      <td>Ideal</td>\n      <td>I1</td>\n      <td>2844</td>\n    </tr>\n    <tr>\n      <th>718</th>\n      <td>0.97</td>\n      <td>Ideal</td>\n      <td>I1</td>\n      <td>2856</td>\n    </tr>\n    <tr>\n      <th>...</th>\n      <td>...</td>\n      <td>...</td>\n      <td>...</td>\n      <td>...</td>\n    </tr>\n    <tr>\n      <th>41242</th>\n      <td>0.30</td>\n      <td>Fair</td>\n      <td>IF</td>\n      <td>1208</td>\n    </tr>\n    <tr>\n      <th>43778</th>\n      <td>0.37</td>\n      <td>Fair</td>\n      <td>IF</td>\n      <td>1440</td>\n    </tr>\n    <tr>\n      <th>47407</th>\n      <td>0.52</td>\n      <td>Fair</td>\n      <td>IF</td>\n      <td>1849</td>\n    </tr>\n    <tr>\n      <th>49683</th>\n      <td>0.52</td>\n      <td>Fair</td>\n      <td>IF</td>\n      <td>2144</td>\n    </tr>\n    <tr>\n      <th>50126</th>\n      <td>0.47</td>\n      <td>Fair</td>\n      <td>IF</td>\n      <td>2211</td>\n    </tr>\n  </tbody>\n</table>\n<p>53940 rows × 4 columns</p>\n</div>"
     },
     "metadata": {},
     "execution_count": 5
    }
   ],
   "source": [
    "df.cut=df.cut.astype('category').cat.reorder_categories(['Fair', 'Good', 'Very Good', 'Premium', 'Ideal'],ordered=True)\n",
    "df.clarity=df.clarity.astype('category').cat.reorder_categories(['I1', 'SI2', 'SI1', 'VS2', 'VS1', 'VVS2', 'VVS1', 'IF'],ordered=True)\n",
    "df.sort_values(['cut', 'clarity'], ascending=[False, True])"
   ]
  },
  {
   "cell_type": "code",
   "execution_count": 6,
   "metadata": {},
   "outputs": [
    {
     "output_type": "execute_result",
     "data": {
      "text/plain": [
       "   carat  cut clarity  price\n",
       "0   0.23    0     SI2    326\n",
       "1   0.21    1     SI1    326\n",
       "2   0.23    3     VS1    327\n",
       "3   0.29    1     VS2    334\n",
       "4   0.31    3     SI2    335"
      ],
      "text/html": "<div>\n<style scoped>\n    .dataframe tbody tr th:only-of-type {\n        vertical-align: middle;\n    }\n\n    .dataframe tbody tr th {\n        vertical-align: top;\n    }\n\n    .dataframe thead th {\n        text-align: right;\n    }\n</style>\n<table border=\"1\" class=\"dataframe\">\n  <thead>\n    <tr style=\"text-align: right;\">\n      <th></th>\n      <th>carat</th>\n      <th>cut</th>\n      <th>clarity</th>\n      <th>price</th>\n    </tr>\n  </thead>\n  <tbody>\n    <tr>\n      <th>0</th>\n      <td>0.23</td>\n      <td>0</td>\n      <td>SI2</td>\n      <td>326</td>\n    </tr>\n    <tr>\n      <th>1</th>\n      <td>0.21</td>\n      <td>1</td>\n      <td>SI1</td>\n      <td>326</td>\n    </tr>\n    <tr>\n      <th>2</th>\n      <td>0.23</td>\n      <td>3</td>\n      <td>VS1</td>\n      <td>327</td>\n    </tr>\n    <tr>\n      <th>3</th>\n      <td>0.29</td>\n      <td>1</td>\n      <td>VS2</td>\n      <td>334</td>\n    </tr>\n    <tr>\n      <th>4</th>\n      <td>0.31</td>\n      <td>3</td>\n      <td>SI2</td>\n      <td>335</td>\n    </tr>\n  </tbody>\n</table>\n</div>"
     },
     "metadata": {},
     "execution_count": 6
    }
   ],
   "source": [
    "df.cut = df.cut.cat.reorder_categories(df.cut.cat.categories[::-1])\n",
    "df.cut = df.cut.cat.codes\n",
    "df.head()"
   ]
  },
  {
   "cell_type": "code",
   "execution_count": 7,
   "metadata": {},
   "outputs": [
    {
     "output_type": "execute_result",
     "data": {
      "text/plain": [
       "   carat  cut  clarity  price\n",
       "0   0.23    0        6    326\n",
       "1   0.21    1        5    326\n",
       "2   0.23    3        3    327\n",
       "3   0.29    1        4    334\n",
       "4   0.31    3        6    335"
      ],
      "text/html": "<div>\n<style scoped>\n    .dataframe tbody tr th:only-of-type {\n        vertical-align: middle;\n    }\n\n    .dataframe tbody tr th {\n        vertical-align: top;\n    }\n\n    .dataframe thead th {\n        text-align: right;\n    }\n</style>\n<table border=\"1\" class=\"dataframe\">\n  <thead>\n    <tr style=\"text-align: right;\">\n      <th></th>\n      <th>carat</th>\n      <th>cut</th>\n      <th>clarity</th>\n      <th>price</th>\n    </tr>\n  </thead>\n  <tbody>\n    <tr>\n      <th>0</th>\n      <td>0.23</td>\n      <td>0</td>\n      <td>6</td>\n      <td>326</td>\n    </tr>\n    <tr>\n      <th>1</th>\n      <td>0.21</td>\n      <td>1</td>\n      <td>5</td>\n      <td>326</td>\n    </tr>\n    <tr>\n      <th>2</th>\n      <td>0.23</td>\n      <td>3</td>\n      <td>3</td>\n      <td>327</td>\n    </tr>\n    <tr>\n      <th>3</th>\n      <td>0.29</td>\n      <td>1</td>\n      <td>4</td>\n      <td>334</td>\n    </tr>\n    <tr>\n      <th>4</th>\n      <td>0.31</td>\n      <td>3</td>\n      <td>6</td>\n      <td>335</td>\n    </tr>\n  </tbody>\n</table>\n</div>"
     },
     "metadata": {},
     "execution_count": 7
    }
   ],
   "source": [
    "df.clarity = df.clarity.cat.reorder_categories(df.clarity.cat.categories[::-1])\n",
    "clarity_cat = df.clarity.cat.categories\n",
    "df.clarity = df.clarity.replace(dict(zip(clarity_cat, range(len(clarity_cat)))))\n",
    "df.head()"
   ]
  },
  {
   "cell_type": "code",
   "execution_count": 8,
   "metadata": {},
   "outputs": [
    {
     "output_type": "execute_result",
     "data": {
      "text/plain": [
       "   carat  cut  clarity  price avg_cut avg_qularty\n",
       "0   0.23    0        6    326     Low    Very Low\n",
       "1   0.21    1        5    326     Low    Very Low\n",
       "2   0.23    3        3    327     Low    Very Low\n",
       "3   0.29    1        4    334     Low    Very Low\n",
       "4   0.31    3        6    335     Low    Very Low"
      ],
      "text/html": "<div>\n<style scoped>\n    .dataframe tbody tr th:only-of-type {\n        vertical-align: middle;\n    }\n\n    .dataframe tbody tr th {\n        vertical-align: top;\n    }\n\n    .dataframe thead th {\n        text-align: right;\n    }\n</style>\n<table border=\"1\" class=\"dataframe\">\n  <thead>\n    <tr style=\"text-align: right;\">\n      <th></th>\n      <th>carat</th>\n      <th>cut</th>\n      <th>clarity</th>\n      <th>price</th>\n      <th>avg_cut</th>\n      <th>avg_qularty</th>\n    </tr>\n  </thead>\n  <tbody>\n    <tr>\n      <th>0</th>\n      <td>0.23</td>\n      <td>0</td>\n      <td>6</td>\n      <td>326</td>\n      <td>Low</td>\n      <td>Very Low</td>\n    </tr>\n    <tr>\n      <th>1</th>\n      <td>0.21</td>\n      <td>1</td>\n      <td>5</td>\n      <td>326</td>\n      <td>Low</td>\n      <td>Very Low</td>\n    </tr>\n    <tr>\n      <th>2</th>\n      <td>0.23</td>\n      <td>3</td>\n      <td>3</td>\n      <td>327</td>\n      <td>Low</td>\n      <td>Very Low</td>\n    </tr>\n    <tr>\n      <th>3</th>\n      <td>0.29</td>\n      <td>1</td>\n      <td>4</td>\n      <td>334</td>\n      <td>Low</td>\n      <td>Very Low</td>\n    </tr>\n    <tr>\n      <th>4</th>\n      <td>0.31</td>\n      <td>3</td>\n      <td>6</td>\n      <td>335</td>\n      <td>Low</td>\n      <td>Very Low</td>\n    </tr>\n  </tbody>\n</table>\n</div>"
     },
     "metadata": {},
     "execution_count": 8
    }
   ],
   "source": [
    "avg = df.price / df.carat\n",
    "df['avg_cut']=pd.cut(avg, [-np.infty, 1000, 3500, 5500, 18000, np.infty],labels=['Very Low', 'Low', 'Mid', 'High', 'Very High'])\n",
    "df['avg_qularty']=pd.qcut(avg, [0,0.2, 0.4, 0.6, 0.8, 1],labels=['Very Low', 'Low', 'Mid', 'High', 'Very High'])\n",
    "df.head()"
   ]
  },
  {
   "cell_type": "code",
   "execution_count": 9,
   "metadata": {},
   "outputs": [
    {
     "output_type": "execute_result",
     "data": {
      "text/plain": [
       "['Very Low', 'Very High']"
      ]
     },
     "metadata": {},
     "execution_count": 9
    }
   ],
   "source": [
    "loss=[i for i in df.avg_cut.cat.categories if not i in df.avg_cut.unique()]\n",
    "loss"
   ]
  },
  {
   "cell_type": "code",
   "execution_count": 10,
   "metadata": {},
   "outputs": [
    {
     "output_type": "execute_result",
     "data": {
      "text/plain": [
       "0        Low\n",
       "1        Low\n",
       "2        Low\n",
       "3        Low\n",
       "4        Low\n",
       "        ... \n",
       "53935    Mid\n",
       "53936    Mid\n",
       "53937    Mid\n",
       "53938    Low\n",
       "53939    Mid\n",
       "Name: avg_cut, Length: 53940, dtype: category\n",
       "Categories (3, object): ['Low' < 'Mid' < 'High']"
      ]
     },
     "metadata": {},
     "execution_count": 10
    }
   ],
   "source": [
    "df.avg_cut.cat.remove_categories(loss)"
   ]
  },
  {
   "cell_type": "code",
   "execution_count": 11,
   "metadata": {},
   "outputs": [
    {
     "output_type": "execute_result",
     "data": {
      "text/plain": [
       "0    2295.0\n",
       "1    2295.0\n",
       "2    2295.0\n",
       "3    2295.0\n",
       "4    2295.0\n",
       "dtype: float64"
      ]
     },
     "metadata": {},
     "execution_count": 11
    }
   ],
   "source": [
    "pd.IntervalIndex(pd.qcut(avg, q=[0,0.2, 0.4, 0.6, 0.8, 1])).right.to_series().reset_index(drop=True).head()"
   ]
  },
  {
   "cell_type": "code",
   "execution_count": 12,
   "metadata": {},
   "outputs": [
    {
     "output_type": "execute_result",
     "data": {
      "text/plain": [
       "0    1051.162\n",
       "1    1051.162\n",
       "2    1051.162\n",
       "3    1051.162\n",
       "4    1051.162\n",
       "dtype: float64"
      ]
     },
     "metadata": {},
     "execution_count": 12
    }
   ],
   "source": [
    "pd.IntervalIndex(pd.qcut(avg, q=[0,0.2, 0.4, 0.6, 0.8, 1])).left.to_series().reset_index(drop=True).head()"
   ]
  },
  {
   "cell_type": "code",
   "execution_count": 13,
   "metadata": {},
   "outputs": [
    {
     "output_type": "execute_result",
     "data": {
      "text/plain": [
       "0    1243.838\n",
       "1    1243.838\n",
       "2    1243.838\n",
       "3    1243.838\n",
       "4    1243.838\n",
       "dtype: float64"
      ]
     },
     "metadata": {},
     "execution_count": 13
    }
   ],
   "source": [
    "pd.IntervalIndex(pd.qcut(avg, q=[0,0.2, 0.4, 0.6, 0.8, 1])).length.to_series().reset_index(drop=True).head()"
   ]
  },
  {
   "cell_type": "code",
   "execution_count": null,
   "metadata": {},
   "outputs": [],
   "source": []
  }
 ]
}