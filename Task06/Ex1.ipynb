{
 "metadata": {
  "language_info": {
   "codemirror_mode": {
    "name": "ipython",
    "version": 3
   },
   "file_extension": ".py",
   "mimetype": "text/x-python",
   "name": "python",
   "nbconvert_exporter": "python",
   "pygments_lexer": "ipython3",
   "version": "3.8.5-final"
  },
  "orig_nbformat": 2,
  "kernelspec": {
   "name": "python3",
   "display_name": "Python 3",
   "language": "python"
  }
 },
 "nbformat": 4,
 "nbformat_minor": 2,
 "cells": [
  {
   "cell_type": "code",
   "execution_count": 1,
   "metadata": {},
   "outputs": [],
   "source": [
    "import pandas as pd"
   ]
  },
  {
   "cell_type": "code",
   "execution_count": 2,
   "metadata": {},
   "outputs": [],
   "source": [
    "date = pd.date_range('20200412', '20201116').to_series()\n",
    "date = date.dt.month.astype('string').str.zfill(2) +'-'+ date.dt.day.astype('string').str.zfill(2) +'-'+ '2020'\n"
   ]
  },
  {
   "cell_type": "code",
   "execution_count": 3,
   "metadata": {},
   "outputs": [],
   "source": [
    "df_all=pd.read_csv('../data/us_report/04-12-2020.csv')\n",
    "df_all=df_all.loc[df_all.Province_State=='New York',['Confirmed','Deaths','Recovered','Active']]"
   ]
  },
  {
   "cell_type": "code",
   "execution_count": 4,
   "metadata": {},
   "outputs": [
    {
     "output_type": "execute_result",
     "data": {
      "text/plain": [
       "    Confirmed  Deaths  Recovered    Active\n",
       "36     563690   34054    81908.0  447728.0\n",
       "36     560200   34032    81788.0  444380.0\n",
       "36     556551   34010    81585.0  440956.0\n",
       "36     551163   33993    81390.0  435780.0\n",
       "36     545762   33975    81198.0  430589.0"
      ],
      "text/html": "<div>\n<style scoped>\n    .dataframe tbody tr th:only-of-type {\n        vertical-align: middle;\n    }\n\n    .dataframe tbody tr th {\n        vertical-align: top;\n    }\n\n    .dataframe thead th {\n        text-align: right;\n    }\n</style>\n<table border=\"1\" class=\"dataframe\">\n  <thead>\n    <tr style=\"text-align: right;\">\n      <th></th>\n      <th>Confirmed</th>\n      <th>Deaths</th>\n      <th>Recovered</th>\n      <th>Active</th>\n    </tr>\n  </thead>\n  <tbody>\n    <tr>\n      <th>36</th>\n      <td>563690</td>\n      <td>34054</td>\n      <td>81908.0</td>\n      <td>447728.0</td>\n    </tr>\n    <tr>\n      <th>36</th>\n      <td>560200</td>\n      <td>34032</td>\n      <td>81788.0</td>\n      <td>444380.0</td>\n    </tr>\n    <tr>\n      <th>36</th>\n      <td>556551</td>\n      <td>34010</td>\n      <td>81585.0</td>\n      <td>440956.0</td>\n    </tr>\n    <tr>\n      <th>36</th>\n      <td>551163</td>\n      <td>33993</td>\n      <td>81390.0</td>\n      <td>435780.0</td>\n    </tr>\n    <tr>\n      <th>36</th>\n      <td>545762</td>\n      <td>33975</td>\n      <td>81198.0</td>\n      <td>430589.0</td>\n    </tr>\n  </tbody>\n</table>\n</div>"
     },
     "metadata": {},
     "execution_count": 4
    }
   ],
   "source": [
    "for i in date:\n",
    "    df=pd.read_csv(f'../data/us_report/{i}.csv')\n",
    "    df=df.loc[df.Province_State=='New York',['Confirmed','Deaths','Recovered','Active']]\n",
    "    df_all=pd.concat([df,df_all])\n",
    "df_all.head()"
   ]
  },
  {
   "cell_type": "code",
   "execution_count": null,
   "metadata": {},
   "outputs": [],
   "source": [
    "L = []\n",
    "for d in date:\n",
    "    df = pd.read_csv('data/us_report/' + d + '.csv', index_col='Province_State')\n",
    "    data = df.loc['New York', ['Confirmed','Deaths','Recovered','Active']]\n",
    "    L.append(data.to_frame().T)\n",
    "res = pd.concat(L)\n",
    "res.index = date"
   ]
  }
 ]
}