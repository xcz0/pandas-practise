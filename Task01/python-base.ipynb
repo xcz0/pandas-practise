{
 "metadata": {
  "language_info": {
   "codemirror_mode": {
    "name": "ipython",
    "version": 3
   },
   "file_extension": ".py",
   "mimetype": "text/x-python",
   "name": "python",
   "nbconvert_exporter": "python",
   "pygments_lexer": "ipython3",
   "version": "3.8.5-final"
  },
  "orig_nbformat": 2,
  "kernelspec": {
   "name": "python3",
   "display_name": "Python 3",
   "language": "python"
  }
 },
 "nbformat": 4,
 "nbformat_minor": 2,
 "cells": [
  {
   "source": [
    "# 列表推导与条件赋值\n",
    "将for循环生产列表，包括条件判定的操作压缩到一行，只将语序倒装"
   ],
   "cell_type": "markdown",
   "metadata": {}
  },
  {
   "cell_type": "code",
   "execution_count": null,
   "metadata": {},
   "outputs": [],
   "source": [
    "def my_func(x):\n",
    "    return 2*x"
   ]
  },
  {
   "cell_type": "code",
   "execution_count": null,
   "metadata": {},
   "outputs": [],
   "source": [
    "[my_func(i) for i in range(5)]"
   ]
  },
  {
   "cell_type": "code",
   "execution_count": null,
   "metadata": {},
   "outputs": [],
   "source": [
    "[m+'_'+n for m in ['a','b'] for n in ['c','d']]"
   ]
  },
  {
   "cell_type": "code",
   "execution_count": null,
   "metadata": {},
   "outputs": [],
   "source": [
    "[i if i <= 5 else 5 for i in range(1,8)]"
   ]
  },
  {
   "source": [
    "# 匿名函数与map\n",
    "使用lambda表达式生成简易匿名函数，可通过列表推导形势使用或map函数映射"
   ],
   "cell_type": "markdown",
   "metadata": {}
  },
  {
   "cell_type": "code",
   "execution_count": null,
   "metadata": {},
   "outputs": [],
   "source": [
    "[(lambda x:2*x)(i) for i in range(5)]"
   ]
  },
  {
   "cell_type": "code",
   "execution_count": null,
   "metadata": {},
   "outputs": [],
   "source": [
    "list(map(lambda x,y:str(x)+'_'+y,range(5),list('abcde')))"
   ]
  },
  {
   "source": [
    "# zip与enumerate\n",
    "zip函数将多个可迭代对象的对应元素组合成元组，将组合后的元组生产zip对象，可通过tuple ，dict和 list 转换为对应形式。与之对于,(*)操作相当于解压缩,将经上述操作组合元组后的形式重新转换为各独立的元组作为参数输入zip()。例如若T=(T1,T2)，则zip(T)相当于zip(T,);zip(*T)相对于zip(T1,T2)\n",
    "\n",
    "enumerate(L)相对于特殊的zip(range(len(L)),L)"
   ],
   "cell_type": "markdown",
   "metadata": {}
  },
  {
   "cell_type": "code",
   "execution_count": 4,
   "metadata": {},
   "outputs": [
    {
     "output_type": "stream",
     "name": "stdout",
     "text": [
      "(('a', 'd', 'h'), ('b', 'e', 'i'), ('c', 'f', 'j'))\n[('a', 'd', 'h'), ('b', 'e', 'i'), ('c', 'f', 'j')]\n"
     ]
    }
   ],
   "source": [
    "L1, L2, L3 = list('abc'), list('def'), list('hij')\n",
    "t=tuple(zip(L1, L2, L3))\n",
    "print(t)\n",
    "l=list(zip(L1, L2, L3))\n",
    "print(l)"
   ]
  },
  {
   "cell_type": "code",
   "execution_count": null,
   "metadata": {},
   "outputs": [],
   "source": [
    "for index, value in enumerate(L1):\n",
    "    print(index, value)"
   ]
  },
  {
   "cell_type": "code",
   "execution_count": 10,
   "metadata": {},
   "outputs": [
    {
     "output_type": "stream",
     "name": "stdout",
     "text": [
      "(('a', 'd', 'h'), ('b', 'e', 'i'), ('c', 'f', 'j'))\n[(('a', 'd', 'h'),), (('b', 'e', 'i'),), (('c', 'f', 'j'),)]\n[(('a', 'd', 'h'), 0), (('b', 'e', 'i'), 1), (('c', 'f', 'j'), 2)]\n[('a', 'b', 'c'), ('d', 'e', 'f'), ('h', 'i', 'j')]\n"
     ]
    }
   ],
   "source": [
    "print(t)\n",
    "print(list(zip(t)))\n",
    "print(list(zip(t,range(3))))\n",
    "print(list(zip(*t)))"
   ]
  }
 ]
}