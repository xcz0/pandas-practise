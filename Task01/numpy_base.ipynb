{
 "metadata": {
  "language_info": {
   "codemirror_mode": {
    "name": "ipython",
    "version": 3
   },
   "file_extension": ".py",
   "mimetype": "text/x-python",
   "name": "python",
   "nbconvert_exporter": "python",
   "pygments_lexer": "ipython3",
   "version": "3.8.5-final"
  },
  "orig_nbformat": 2,
  "kernelspec": {
   "name": "python3",
   "display_name": "Python 3",
   "language": "python"
  }
 },
 "nbformat": 4,
 "nbformat_minor": 2,
 "cells": [
  {
   "source": [
    "# np数组构造"
   ],
   "cell_type": "markdown",
   "metadata": {}
  },
  {
   "cell_type": "code",
   "execution_count": 2,
   "metadata": {},
   "outputs": [],
   "source": [
    "import numpy as np"
   ]
  },
  {
   "cell_type": "code",
   "execution_count": 3,
   "metadata": {},
   "outputs": [],
   "source": [
    "a=np.array([1,2,3])#通过现有数据\n",
    "l=np.linspace(1,5,11) # 起始、终止（包含）、样本个数\n",
    "a2=np.arange(1,5,2) # 起始、终止（不包含）、步长"
   ]
  },
  {
   "cell_type": "code",
   "execution_count": 4,
   "metadata": {},
   "outputs": [],
   "source": [
    "z1=np.zeros((2,3)) # 传入元组表示各维度大小\n",
    "e1=np.eye(3) # 3阶单位矩阵\n",
    "e2=np.eye(3, k=1) # 偏移主对角线1个单位的伪单位矩阵\n",
    "f1=np.full((2,3), 10) # 元组传入大小，10表示填充数值\n",
    "f2=np.full((2,3), [1,2,3]) # 通过传入列表填充每列的值"
   ]
  },
  {
   "cell_type": "code",
   "execution_count": null,
   "metadata": {},
   "outputs": [],
   "source": [
    "np.random.rand(3) # 生成服从0-1均匀分布的三个随机数\n",
    "np.random.rand(3, 3) # 注意这里传入的不是元组，每个维度大小分开输入\n",
    "a, b = 5, 15\n",
    "(b - a) * np.random.rand(3) + a#服从区间 a 到 b 上的均匀分布\n",
    "np.random.randn(2, 2)#标准正态分布\n",
    "sigma, mu = 2.5, 3\n",
    "mu + np.random.randn(3) * sigma\n",
    "low, high, size = 5, 15, (2,2) # 生成5到14的随机整数\n",
    "np.random.randint(low, high, size)\n",
    "my_list = ['a', 'b', 'c', 'd']\n",
    "np.random.choice(my_list, 2, replace=False, p=[0.1, 0.7, 0.1 ,0.1])#从给定的列表中，以一定概率和方式抽取结果，当不指定概率时为均匀采样，默认抽取方式为有放回抽样\n",
    "np.random.permutation(my_list)#打散原列表\n",
    "np.random.seed(0)#随机种子相同，随机结果相同"
   ]
  },
  {
   "source": [
    "# np数组的变形与合并"
   ],
   "cell_type": "markdown",
   "metadata": {}
  },
  {
   "cell_type": "code",
   "execution_count": null,
   "metadata": {},
   "outputs": [],
   "source": [
    "np.zeros((2,3)).T# 转置： T"
   ]
  },
  {
   "cell_type": "code",
   "execution_count": null,
   "metadata": {},
   "outputs": [],
   "source": [
    "np.r_[np.zeros((2,3)),np.zeros((2,3))]#上下合并\n",
    "np.c_[np.zeros((2,3)),np.zeros((2,3))]#左右合并\n",
    "#一维数组和二维数组进行合并时，应当把其视作列向量，在长度匹配的情况下只能够使用左右合并的 c_ 操作："
   ]
  },
  {
   "cell_type": "code",
   "execution_count": null,
   "metadata": {},
   "outputs": [],
   "source": [
    "target = np.arange(8).reshape(2,4)#维度变换： reshape\n",
    "target.reshape((4,2), order='C') # 按照行读取和填充\n",
    "target.reshape((4,2), order='F') # 按照列读取和填充\n",
    "target.reshape((4,-1))#只给定其中一个维度，另一个自行确定\n",
    "target.reshape(-1)#转为一维数组"
   ]
  },
  {
   "cell_type": "code",
   "execution_count": null,
   "metadata": {},
   "outputs": [],
   "source": [
    "target[:-1, [0,2]]#切片，类似于matlab\n",
    "target[np.ix_([True, False, True], [True, False, True])]#布尔索引\n",
    "target[np.ix_([1,2], [True, False, True])]\n",
    "new[new%2==0]#一维情况，无须np.ix_"
   ]
  },
  {
   "cell_type": "code",
   "execution_count": null,
   "metadata": {},
   "outputs": [],
   "source": [
    "np.where(a>0, a, 5) # 对应位置为True时填充a对应元素，否则填充5\n",
    "np.nonzero(a)#非0索引\n",
    "a.argmax()#最大值索引\n",
    "a.argmin()#最小值索引\n",
    "a.any()#至少 存在一个 True 或非零元素时返回 True\n",
    "a.all()#全为 True 或非零元素时返回 True\n",
    "a.cumprod()#累乘\n",
    "a.cumsum()#累加\n",
    "np.diff(a)#差分\n"
   ]
  },
  {
   "cell_type": "code",
   "execution_count": null,
   "metadata": {},
   "outputs": [],
   "source": [
    "target.max()\n",
    "np.quantile(target, 0.5) # 0.5分位数\n",
    "target = np.array([1, 2, np.nan])#nan为缺失值\n",
    "np.nanmax(target)#在原函数前加nan略过缺失值"
   ]
  },
  {
   "cell_type": "code",
   "execution_count": null,
   "metadata": {},
   "outputs": [],
   "source": [
    "#二维 Numpy 数组中统计函数的 axis 参数，它能够进行某一个维度下的统计特征计算，当 axis=0 时结果为列的统计指标，当 axis=1 时结果为行的统计指标\n",
    "target.sum(0)#每列的和\n",
    "target.sum(1)#每行的和"
   ]
  },
  {
   "cell_type": "code",
   "execution_count": null,
   "metadata": {},
   "outputs": [],
   "source": [
    "res = 3 * np.ones((2,2)) + 1\n",
    "res = 1 / res#矩阵与标量计算，标量将补足成相等大小的矩阵，值与原标量相等\n",
    "\n",
    "#两维度不等矩阵运算，某个数组的维度是m*1 或者1*n ，那么会扩充其具有1 的维度为另一个数组对应维度的大小\n",
    "res = np.ones((3,2))\n",
    "res * np.array([[2,3]]) # 扩充第一维度为3\n",
    "res * np.array([[2],[3],[4]]) # 扩充第二维度为2\n",
    "res * np.array([[2]]) # 等价于两次扩充\n",
    "\n",
    "#一维数组与二维数组时，一维数组视为行向量\n",
    "np.ones(3) + np.ones((2,3))"
   ]
  },
  {
   "cell_type": "code",
   "execution_count": null,
   "metadata": {},
   "outputs": [],
   "source": [
    "a = np.array([1,2,3])\n",
    "b = np.array([1,3,5])\n",
    "a.dot(b)#向量内积\n",
    "np.linalg.norm(martix_target, 'fro')#范数\n",
    "a@b#矩阵相乘"
   ]
  }
 ]
}