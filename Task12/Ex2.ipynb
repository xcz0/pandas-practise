{
 "metadata": {
  "language_info": {
   "codemirror_mode": {
    "name": "ipython",
    "version": 3
   },
   "file_extension": ".py",
   "mimetype": "text/x-python",
   "name": "python",
   "nbconvert_exporter": "python",
   "pygments_lexer": "ipython3",
   "version": "3.8.5-final"
  },
  "orig_nbformat": 2,
  "kernelspec": {
   "name": "python3",
   "display_name": "Python 3",
   "language": "python"
  }
 },
 "nbformat": 4,
 "nbformat_minor": 2,
 "cells": [
  {
   "cell_type": "code",
   "execution_count": 46,
   "metadata": {},
   "outputs": [],
   "source": [
    "import pandas as pd\n",
    "import numpy as np\n",
    "df1 = pd.read_csv('yali18.csv')\n",
    "df2 = pd.read_csv('yali19.csv')\n",
    "df3 = pd.read_csv('qx1819.csv')"
   ]
  },
  {
   "cell_type": "code",
   "execution_count": 47,
   "metadata": {},
   "outputs": [
    {
     "output_type": "execute_result",
     "data": {
      "text/plain": [
       "                    MeasName        压力\n",
       "Time                                  \n",
       "2018-01-01 00:00:00      站点4  0.402750\n",
       "2018-01-01 00:00:00      站点9  0.255000\n",
       "2018-01-01 00:00:00      站点2  0.317750\n",
       "2018-01-01 00:00:00     站点17 -0.250000\n",
       "2018-01-01 00:00:00     站点12  0.280875\n",
       "...                      ...       ...\n",
       "2019-12-31 23:00:00     站点22  0.234625\n",
       "2019-12-31 23:00:00      站点7  0.269875\n",
       "2019-12-31 23:00:00      站点9  0.201375\n",
       "2019-12-31 23:00:00     站点30  0.274875\n",
       "2019-12-31 23:00:00      站点6  0.000000\n",
       "\n",
       "[525600 rows x 2 columns]"
      ],
      "text/html": "<div>\n<style scoped>\n    .dataframe tbody tr th:only-of-type {\n        vertical-align: middle;\n    }\n\n    .dataframe tbody tr th {\n        vertical-align: top;\n    }\n\n    .dataframe thead th {\n        text-align: right;\n    }\n</style>\n<table border=\"1\" class=\"dataframe\">\n  <thead>\n    <tr style=\"text-align: right;\">\n      <th></th>\n      <th>MeasName</th>\n      <th>压力</th>\n    </tr>\n    <tr>\n      <th>Time</th>\n      <th></th>\n      <th></th>\n    </tr>\n  </thead>\n  <tbody>\n    <tr>\n      <th>2018-01-01 00:00:00</th>\n      <td>站点4</td>\n      <td>0.402750</td>\n    </tr>\n    <tr>\n      <th>2018-01-01 00:00:00</th>\n      <td>站点9</td>\n      <td>0.255000</td>\n    </tr>\n    <tr>\n      <th>2018-01-01 00:00:00</th>\n      <td>站点2</td>\n      <td>0.317750</td>\n    </tr>\n    <tr>\n      <th>2018-01-01 00:00:00</th>\n      <td>站点17</td>\n      <td>-0.250000</td>\n    </tr>\n    <tr>\n      <th>2018-01-01 00:00:00</th>\n      <td>站点12</td>\n      <td>0.280875</td>\n    </tr>\n    <tr>\n      <th>...</th>\n      <td>...</td>\n      <td>...</td>\n    </tr>\n    <tr>\n      <th>2019-12-31 23:00:00</th>\n      <td>站点22</td>\n      <td>0.234625</td>\n    </tr>\n    <tr>\n      <th>2019-12-31 23:00:00</th>\n      <td>站点7</td>\n      <td>0.269875</td>\n    </tr>\n    <tr>\n      <th>2019-12-31 23:00:00</th>\n      <td>站点9</td>\n      <td>0.201375</td>\n    </tr>\n    <tr>\n      <th>2019-12-31 23:00:00</th>\n      <td>站点30</td>\n      <td>0.274875</td>\n    </tr>\n    <tr>\n      <th>2019-12-31 23:00:00</th>\n      <td>站点6</td>\n      <td>0.000000</td>\n    </tr>\n  </tbody>\n</table>\n<p>525600 rows × 2 columns</p>\n</div>"
     },
     "metadata": {},
     "execution_count": 47
    }
   ],
   "source": [
    "df1=df1.melt(id_vars=['Time','MeasName'] ,value_vars=df1.columns.to_list()[2:],value_name='压力')\n",
    "df2=df2.melt(id_vars=['Time','MeasName'] ,value_vars=df2.columns.to_list()[2:],value_name='压力')\n",
    "df=pd.concat([df1,df2])\n",
    "df['Time'] = pd.to_datetime(df.Time+' '+df.variable.str[1:]+':00:00')\n",
    "df=df.drop(columns='variable').set_index('Time').sort_index()\n",
    "df"
   ]
  },
  {
   "cell_type": "code",
   "execution_count": 48,
   "metadata": {},
   "outputs": [
    {
     "output_type": "execute_result",
     "data": {
      "text/plain": [
       "             日期     天气      气温                风向\n",
       "0    2018-01-01     多云  1C～-4C            东南风 微风\n",
       "1    2018-01-02   阴转多云   8C～0C          东北风 3-4级\n",
       "2    2018-01-03   阴转小雪  1C～-1C     东北风 4-5级转4-5级\n",
       "3    2018-01-04      阴  0C～-4C  东北风转北风 3-4级转3-4级\n",
       "4    2018-01-05   阴转多云  3C～-4C   西风转北风 3-4级转3-4级\n",
       "..          ...    ...     ...               ...\n",
       "724  2019-12-27   多云转晴  6℃～-1℃  西南风转南风 3-4级转3-4级\n",
       "725  2019-12-28  多云转小雨  10℃～4℃  西南风转南风 3-4级转3-4级\n",
       "726  2019-12-29     多云  11℃～2℃    西南风转北风 <3级转<3级\n",
       "727  2019-12-30    阴转晴  4℃～-6℃  东北风转北风 4-5级转4-5级\n",
       "728  2019-12-31   晴转多云  0℃～-5℃         西风转南风 <3级\n",
       "\n",
       "[729 rows x 4 columns]"
      ],
      "text/html": "<div>\n<style scoped>\n    .dataframe tbody tr th:only-of-type {\n        vertical-align: middle;\n    }\n\n    .dataframe tbody tr th {\n        vertical-align: top;\n    }\n\n    .dataframe thead th {\n        text-align: right;\n    }\n</style>\n<table border=\"1\" class=\"dataframe\">\n  <thead>\n    <tr style=\"text-align: right;\">\n      <th></th>\n      <th>日期</th>\n      <th>天气</th>\n      <th>气温</th>\n      <th>风向</th>\n    </tr>\n  </thead>\n  <tbody>\n    <tr>\n      <th>0</th>\n      <td>2018-01-01</td>\n      <td>多云</td>\n      <td>1C～-4C</td>\n      <td>东南风 微风</td>\n    </tr>\n    <tr>\n      <th>1</th>\n      <td>2018-01-02</td>\n      <td>阴转多云</td>\n      <td>8C～0C</td>\n      <td>东北风 3-4级</td>\n    </tr>\n    <tr>\n      <th>2</th>\n      <td>2018-01-03</td>\n      <td>阴转小雪</td>\n      <td>1C～-1C</td>\n      <td>东北风 4-5级转4-5级</td>\n    </tr>\n    <tr>\n      <th>3</th>\n      <td>2018-01-04</td>\n      <td>阴</td>\n      <td>0C～-4C</td>\n      <td>东北风转北风 3-4级转3-4级</td>\n    </tr>\n    <tr>\n      <th>4</th>\n      <td>2018-01-05</td>\n      <td>阴转多云</td>\n      <td>3C～-4C</td>\n      <td>西风转北风 3-4级转3-4级</td>\n    </tr>\n    <tr>\n      <th>...</th>\n      <td>...</td>\n      <td>...</td>\n      <td>...</td>\n      <td>...</td>\n    </tr>\n    <tr>\n      <th>724</th>\n      <td>2019-12-27</td>\n      <td>多云转晴</td>\n      <td>6℃～-1℃</td>\n      <td>西南风转南风 3-4级转3-4级</td>\n    </tr>\n    <tr>\n      <th>725</th>\n      <td>2019-12-28</td>\n      <td>多云转小雨</td>\n      <td>10℃～4℃</td>\n      <td>西南风转南风 3-4级转3-4级</td>\n    </tr>\n    <tr>\n      <th>726</th>\n      <td>2019-12-29</td>\n      <td>多云</td>\n      <td>11℃～2℃</td>\n      <td>西南风转北风 &lt;3级转&lt;3级</td>\n    </tr>\n    <tr>\n      <th>727</th>\n      <td>2019-12-30</td>\n      <td>阴转晴</td>\n      <td>4℃～-6℃</td>\n      <td>东北风转北风 4-5级转4-5级</td>\n    </tr>\n    <tr>\n      <th>728</th>\n      <td>2019-12-31</td>\n      <td>晴转多云</td>\n      <td>0℃～-5℃</td>\n      <td>西风转南风 &lt;3级</td>\n    </tr>\n  </tbody>\n</table>\n<p>729 rows × 4 columns</p>\n</div>"
     },
     "metadata": {},
     "execution_count": 48
    }
   ],
   "source": [
    "df3"
   ]
  },
  {
   "cell_type": "code",
   "execution_count": null,
   "metadata": {},
   "outputs": [],
   "source": []
  }
 ]
}