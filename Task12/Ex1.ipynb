{
 "metadata": {
  "language_info": {
   "codemirror_mode": {
    "name": "ipython",
    "version": 3
   },
   "file_extension": ".py",
   "mimetype": "text/x-python",
   "name": "python",
   "nbconvert_exporter": "python",
   "pygments_lexer": "ipython3",
   "version": "3.8.5-final"
  },
  "orig_nbformat": 2,
  "kernelspec": {
   "name": "python3",
   "display_name": "Python 3",
   "language": "python"
  }
 },
 "nbformat": 4,
 "nbformat_minor": 2,
 "cells": [
  {
   "cell_type": "code",
   "execution_count": 5,
   "metadata": {},
   "outputs": [
    {
     "output_type": "execute_result",
     "data": {
      "text/plain": [
       "                                                    0\n",
       "0                                               start\n",
       "1              benchmark start :  2020/12/24 12:12:48\n",
       "2                Number of GPUs on current device : 1\n",
       "3                                 CUDA Version : 11.0\n",
       "4                                Cudnn Version : 8005\n",
       "5                      Device Name : GeForce RTX 3090\n",
       "6   uname_result(system='Linux', node='gyh-X11DPi-...\n",
       "7   scpufreq(current=1182.0009166666669, min=1000....\n",
       "8                                       cpu_count: 36\n",
       "9                      memory_available: 129118310400\n",
       "10  Benchmarking Training float precision type mna..."
      ],
      "text/html": "<div>\n<style scoped>\n    .dataframe tbody tr th:only-of-type {\n        vertical-align: middle;\n    }\n\n    .dataframe tbody tr th {\n        vertical-align: top;\n    }\n\n    .dataframe thead th {\n        text-align: right;\n    }\n</style>\n<table border=\"1\" class=\"dataframe\">\n  <thead>\n    <tr style=\"text-align: right;\">\n      <th></th>\n      <th>0</th>\n    </tr>\n  </thead>\n  <tbody>\n    <tr>\n      <th>0</th>\n      <td>start</td>\n    </tr>\n    <tr>\n      <th>1</th>\n      <td>benchmark start :  2020/12/24 12:12:48</td>\n    </tr>\n    <tr>\n      <th>2</th>\n      <td>Number of GPUs on current device : 1</td>\n    </tr>\n    <tr>\n      <th>3</th>\n      <td>CUDA Version : 11.0</td>\n    </tr>\n    <tr>\n      <th>4</th>\n      <td>Cudnn Version : 8005</td>\n    </tr>\n    <tr>\n      <th>5</th>\n      <td>Device Name : GeForce RTX 3090</td>\n    </tr>\n    <tr>\n      <th>6</th>\n      <td>uname_result(system='Linux', node='gyh-X11DPi-...</td>\n    </tr>\n    <tr>\n      <th>7</th>\n      <td>scpufreq(current=1182.0009166666669, min=1000....</td>\n    </tr>\n    <tr>\n      <th>8</th>\n      <td>cpu_count: 36</td>\n    </tr>\n    <tr>\n      <th>9</th>\n      <td>memory_available: 129118310400</td>\n    </tr>\n    <tr>\n      <th>10</th>\n      <td>Benchmarking Training float precision type mna...</td>\n    </tr>\n  </tbody>\n</table>\n</div>"
     },
     "metadata": {},
     "execution_count": 5
    }
   ],
   "source": [
    "import pandas as pd\n",
    "df=pd.read_table('benchmark.txt',header=None,nrows=11)\n",
    "df"
   ]
  },
  {
   "cell_type": "code",
   "execution_count": null,
   "metadata": {},
   "outputs": [],
   "source": []
  }
 ]
}