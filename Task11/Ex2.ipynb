{
 "metadata": {
  "language_info": {
   "codemirror_mode": {
    "name": "ipython",
    "version": 3
   },
   "file_extension": ".py",
   "mimetype": "text/x-python",
   "name": "python",
   "nbconvert_exporter": "python",
   "pygments_lexer": "ipython3",
   "version": "3.8.5-final"
  },
  "orig_nbformat": 2,
  "kernelspec": {
   "name": "python3",
   "display_name": "Python 3",
   "language": "python"
  }
 },
 "nbformat": 4,
 "nbformat_minor": 2,
 "cells": [
  {
   "cell_type": "code",
   "execution_count": 2,
   "metadata": {},
   "outputs": [
    {
     "output_type": "execute_result",
     "data": {
      "text/plain": [
       "         Date  Fruit  Sale\n",
       "0  2019-04-18  Peach    15\n",
       "1  2019-12-29  Peach    15\n",
       "2  2019-06-05  Peach    19\n",
       "3  2019-10-28   Pear    19\n",
       "4  2019-06-11  Peach     5"
      ],
      "text/html": "<div>\n<style scoped>\n    .dataframe tbody tr th:only-of-type {\n        vertical-align: middle;\n    }\n\n    .dataframe tbody tr th {\n        vertical-align: top;\n    }\n\n    .dataframe thead th {\n        text-align: right;\n    }\n</style>\n<table border=\"1\" class=\"dataframe\">\n  <thead>\n    <tr style=\"text-align: right;\">\n      <th></th>\n      <th>Date</th>\n      <th>Fruit</th>\n      <th>Sale</th>\n    </tr>\n  </thead>\n  <tbody>\n    <tr>\n      <th>0</th>\n      <td>2019-04-18</td>\n      <td>Peach</td>\n      <td>15</td>\n    </tr>\n    <tr>\n      <th>1</th>\n      <td>2019-12-29</td>\n      <td>Peach</td>\n      <td>15</td>\n    </tr>\n    <tr>\n      <th>2</th>\n      <td>2019-06-05</td>\n      <td>Peach</td>\n      <td>19</td>\n    </tr>\n    <tr>\n      <th>3</th>\n      <td>2019-10-28</td>\n      <td>Pear</td>\n      <td>19</td>\n    </tr>\n    <tr>\n      <th>4</th>\n      <td>2019-06-11</td>\n      <td>Peach</td>\n      <td>5</td>\n    </tr>\n  </tbody>\n</table>\n</div>"
     },
     "metadata": {},
     "execution_count": 2
    }
   ],
   "source": [
    "import pandas as pd\n",
    "df = pd.read_csv('../data/fruit.csv')\n",
    "df.head()"
   ]
  },
  {
   "cell_type": "code",
   "execution_count": null,
   "metadata": {},
   "outputs": [],
   "source": [
    "df.Date = pd.to_datetime(df.Date)\n",
    "df_grape = df.query(\"Fruit == 'Grape'\")\n",
    "res = df_grape.groupby([np.where(df_grape.Date.dt.day<=15,'First', 'Second'),df_grape.Date.dt.month])['Sale'].mean().to_frame().unstack(0).droplevel(0,axis=1)"
   ]
  },
  {
   "cell_type": "code",
   "execution_count": null,
   "metadata": {},
   "outputs": [],
   "source": [
    "res = (res.First/res.Second).rename_axis('Month')\n",
    "res.head()"
   ]
  },
  {
   "cell_type": "code",
   "execution_count": null,
   "metadata": {},
   "outputs": [],
   "source": [
    "df[df.Date.dt.is_month_end].query(\"Fruit == 'Pear'\").groupby('Date').Sale.sum().head()"
   ]
  },
  {
   "cell_type": "code",
   "execution_count": null,
   "metadata": {},
   "outputs": [],
   "source": [
    "df[df.Date.isin(pd.date_range('20190101', '20191231',freq='BM'))].query(\"Fruit == 'Pear'\").groupby('Date').Sale.mean().head()"
   ]
  },
  {
   "cell_type": "code",
   "execution_count": null,
   "metadata": {},
   "outputs": [],
   "source": [
    "target_dt = df.drop_duplicates().groupby(df.Date.drop_duplicates().dt.month)['Date'].nlargest(5).reset_index(drop=True)\n",
    "res = df.set_index('Date').loc[target_dt].reset_index().query(\"Fruit == 'Apple'\")\n",
    "res = res.groupby(res.Date.dt.month)['Sale'].mean().rename_axis('Month')\n",
    "res.head()"
   ]
  },
  {
   "cell_type": "code",
   "execution_count": null,
   "metadata": {},
   "outputs": [],
   "source": [
    "month_order = ['January','February','March','April','May','June','July','August','September','October','November','December']\n",
    "week_order = ['Mon','Tue','Wed','Thu','Fri','Sat','Sum']\n",
    "group1 = df.Date.dt.month_name().astype('category').cat.reorder_categories(month_order, ordered=True)\n",
    "group2 = df.Fruit\n",
    "group3 = df.Date.dt.dayofweek.replace(dict(zip(range(7),week_order))).astype('category').cat.reorder_categories(week_order, ordered=True)\n",
    "res = df.groupby([group1, group2,group3])['Sale'].count().to_frame().unstack(0).droplevel(0,axis=1)\n",
    "res.head()"
   ]
  },
  {
   "cell_type": "code",
   "execution_count": null,
   "metadata": {},
   "outputs": [],
   "source": [
    "df_apple = df[(df.Fruit=='Apple')&(~df.Date.dt.dayofweek.isin([5,6]))]\n",
    "s = pd.Series(df_apple.Sale.values,index=df_apple.Date).groupby('Date').sum()\n",
    "res = s.rolling('10D').mean().reindex(pd.date_range('20190101','20191231')).fillna(method='ffill')\n",
    "res.head()"
   ]
  }
 ]
}