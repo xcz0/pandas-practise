{
 "metadata": {
  "language_info": {
   "codemirror_mode": {
    "name": "ipython",
    "version": 3
   },
   "file_extension": ".py",
   "mimetype": "text/x-python",
   "name": "python",
   "nbconvert_exporter": "python",
   "pygments_lexer": "ipython3",
   "version": "3.8.5-final"
  },
  "orig_nbformat": 2,
  "kernelspec": {
   "name": "python3",
   "display_name": "Python 3",
   "language": "python"
  }
 },
 "nbformat": 4,
 "nbformat_minor": 2,
 "cells": [
  {
   "cell_type": "code",
   "execution_count": 1,
   "metadata": {},
   "outputs": [
    {
     "output_type": "execute_result",
     "data": {
      "text/plain": [
       "      floor    year    area price\n",
       "0   高层（共6层）  1986年建  58.23㎡  155万\n",
       "1  中层（共20层）  2020年建     88㎡  155万\n",
       "2  低层（共28层）  2010年建  89.33㎡  365万\n",
       "3  低层（共20层）  2014年建     82㎡  308万\n",
       "4   高层（共1层）  2015年建     98㎡  117万"
      ],
      "text/html": "<div>\n<style scoped>\n    .dataframe tbody tr th:only-of-type {\n        vertical-align: middle;\n    }\n\n    .dataframe tbody tr th {\n        vertical-align: top;\n    }\n\n    .dataframe thead th {\n        text-align: right;\n    }\n</style>\n<table border=\"1\" class=\"dataframe\">\n  <thead>\n    <tr style=\"text-align: right;\">\n      <th></th>\n      <th>floor</th>\n      <th>year</th>\n      <th>area</th>\n      <th>price</th>\n    </tr>\n  </thead>\n  <tbody>\n    <tr>\n      <th>0</th>\n      <td>高层（共6层）</td>\n      <td>1986年建</td>\n      <td>58.23㎡</td>\n      <td>155万</td>\n    </tr>\n    <tr>\n      <th>1</th>\n      <td>中层（共20层）</td>\n      <td>2020年建</td>\n      <td>88㎡</td>\n      <td>155万</td>\n    </tr>\n    <tr>\n      <th>2</th>\n      <td>低层（共28层）</td>\n      <td>2010年建</td>\n      <td>89.33㎡</td>\n      <td>365万</td>\n    </tr>\n    <tr>\n      <th>3</th>\n      <td>低层（共20层）</td>\n      <td>2014年建</td>\n      <td>82㎡</td>\n      <td>308万</td>\n    </tr>\n    <tr>\n      <th>4</th>\n      <td>高层（共1层）</td>\n      <td>2015年建</td>\n      <td>98㎡</td>\n      <td>117万</td>\n    </tr>\n  </tbody>\n</table>\n</div>"
     },
     "metadata": {},
     "execution_count": 1
    }
   ],
   "source": [
    "import pandas as pd\n",
    "df = pd.read_excel('../data/house_info.xls', usecols=['floor','year','area','price'])\n",
    "df.head()"
   ]
  },
  {
   "cell_type": "code",
   "execution_count": 2,
   "metadata": {},
   "outputs": [
    {
     "output_type": "execute_result",
     "data": {
      "text/plain": [
       "      floor  year    area price\n",
       "0   高层（共6层）  1986  58.23㎡  155万\n",
       "1  中层（共20层）  2020     88㎡  155万\n",
       "2  低层（共28层）  2010  89.33㎡  365万\n",
       "3  低层（共20层）  2014     82㎡  308万\n",
       "4   高层（共1层）  2015     98㎡  117万"
      ],
      "text/html": "<div>\n<style scoped>\n    .dataframe tbody tr th:only-of-type {\n        vertical-align: middle;\n    }\n\n    .dataframe tbody tr th {\n        vertical-align: top;\n    }\n\n    .dataframe thead th {\n        text-align: right;\n    }\n</style>\n<table border=\"1\" class=\"dataframe\">\n  <thead>\n    <tr style=\"text-align: right;\">\n      <th></th>\n      <th>floor</th>\n      <th>year</th>\n      <th>area</th>\n      <th>price</th>\n    </tr>\n  </thead>\n  <tbody>\n    <tr>\n      <th>0</th>\n      <td>高层（共6层）</td>\n      <td>1986</td>\n      <td>58.23㎡</td>\n      <td>155万</td>\n    </tr>\n    <tr>\n      <th>1</th>\n      <td>中层（共20层）</td>\n      <td>2020</td>\n      <td>88㎡</td>\n      <td>155万</td>\n    </tr>\n    <tr>\n      <th>2</th>\n      <td>低层（共28层）</td>\n      <td>2010</td>\n      <td>89.33㎡</td>\n      <td>365万</td>\n    </tr>\n    <tr>\n      <th>3</th>\n      <td>低层（共20层）</td>\n      <td>2014</td>\n      <td>82㎡</td>\n      <td>308万</td>\n    </tr>\n    <tr>\n      <th>4</th>\n      <td>高层（共1层）</td>\n      <td>2015</td>\n      <td>98㎡</td>\n      <td>117万</td>\n    </tr>\n  </tbody>\n</table>\n</div>"
     },
     "metadata": {},
     "execution_count": 2
    }
   ],
   "source": [
    "df.year = pd.to_numeric(df.year.str[:-2]).astype('Int64')\n",
    "df.head()"
   ]
  },
  {
   "source": [
    "正则表达式里，英括号代表留下的，外面代表匹配字符"
   ],
   "cell_type": "markdown",
   "metadata": {}
  },
  {
   "cell_type": "code",
   "execution_count": 3,
   "metadata": {},
   "outputs": [
    {
     "output_type": "execute_result",
     "data": {
      "text/plain": [
       "   year    area price Level Highest\n",
       "0  1986  58.23㎡  155万    高层       6\n",
       "1  2020     88㎡  155万    中层      20\n",
       "2  2010  89.33㎡  365万    低层      28\n",
       "3  2014     82㎡  308万    低层      20\n",
       "4  2015     98㎡  117万    高层       1"
      ],
      "text/html": "<div>\n<style scoped>\n    .dataframe tbody tr th:only-of-type {\n        vertical-align: middle;\n    }\n\n    .dataframe tbody tr th {\n        vertical-align: top;\n    }\n\n    .dataframe thead th {\n        text-align: right;\n    }\n</style>\n<table border=\"1\" class=\"dataframe\">\n  <thead>\n    <tr style=\"text-align: right;\">\n      <th></th>\n      <th>year</th>\n      <th>area</th>\n      <th>price</th>\n      <th>Level</th>\n      <th>Highest</th>\n    </tr>\n  </thead>\n  <tbody>\n    <tr>\n      <th>0</th>\n      <td>1986</td>\n      <td>58.23㎡</td>\n      <td>155万</td>\n      <td>高层</td>\n      <td>6</td>\n    </tr>\n    <tr>\n      <th>1</th>\n      <td>2020</td>\n      <td>88㎡</td>\n      <td>155万</td>\n      <td>中层</td>\n      <td>20</td>\n    </tr>\n    <tr>\n      <th>2</th>\n      <td>2010</td>\n      <td>89.33㎡</td>\n      <td>365万</td>\n      <td>低层</td>\n      <td>28</td>\n    </tr>\n    <tr>\n      <th>3</th>\n      <td>2014</td>\n      <td>82㎡</td>\n      <td>308万</td>\n      <td>低层</td>\n      <td>20</td>\n    </tr>\n    <tr>\n      <th>4</th>\n      <td>2015</td>\n      <td>98㎡</td>\n      <td>117万</td>\n      <td>高层</td>\n      <td>1</td>\n    </tr>\n  </tbody>\n</table>\n</div>"
     },
     "metadata": {},
     "execution_count": 3
    }
   ],
   "source": [
    "floor='(?P<Level>\\w层)（共(?P<Highest>\\d+)层）'\n",
    "df = pd.concat([df.drop(columns=['floor']), df['floor'].str.extract(floor)], 1)\n",
    "df.head()"
   ]
  },
  {
   "source": [
    "需在被除数后打括号，再转为 str 否则程序会误判"
   ],
   "cell_type": "markdown",
   "metadata": {}
  },
  {
   "cell_type": "code",
   "execution_count": 4,
   "metadata": {},
   "outputs": [
    {
     "output_type": "execute_result",
     "data": {
      "text/plain": [
       "   year    area price Level Highest                avg_price\n",
       "0  1986  58.23㎡  155万    高层       6   3756.774193548387 元/平米\n",
       "1  2020     88㎡  155万    中层      20   5677.419354838709 元/平米\n",
       "2  2010  89.33㎡  365万    低层      28  2447.3972602739723 元/平米\n",
       "3  2014     82㎡  308万    低层      20   2662.337662337662 元/平米\n",
       "4  2015     98㎡  117万    高层       1   8376.068376068377 元/平米"
      ],
      "text/html": "<div>\n<style scoped>\n    .dataframe tbody tr th:only-of-type {\n        vertical-align: middle;\n    }\n\n    .dataframe tbody tr th {\n        vertical-align: top;\n    }\n\n    .dataframe thead th {\n        text-align: right;\n    }\n</style>\n<table border=\"1\" class=\"dataframe\">\n  <thead>\n    <tr style=\"text-align: right;\">\n      <th></th>\n      <th>year</th>\n      <th>area</th>\n      <th>price</th>\n      <th>Level</th>\n      <th>Highest</th>\n      <th>avg_price</th>\n    </tr>\n  </thead>\n  <tbody>\n    <tr>\n      <th>0</th>\n      <td>1986</td>\n      <td>58.23㎡</td>\n      <td>155万</td>\n      <td>高层</td>\n      <td>6</td>\n      <td>3756.774193548387 元/平米</td>\n    </tr>\n    <tr>\n      <th>1</th>\n      <td>2020</td>\n      <td>88㎡</td>\n      <td>155万</td>\n      <td>中层</td>\n      <td>20</td>\n      <td>5677.419354838709 元/平米</td>\n    </tr>\n    <tr>\n      <th>2</th>\n      <td>2010</td>\n      <td>89.33㎡</td>\n      <td>365万</td>\n      <td>低层</td>\n      <td>28</td>\n      <td>2447.3972602739723 元/平米</td>\n    </tr>\n    <tr>\n      <th>3</th>\n      <td>2014</td>\n      <td>82㎡</td>\n      <td>308万</td>\n      <td>低层</td>\n      <td>20</td>\n      <td>2662.337662337662 元/平米</td>\n    </tr>\n    <tr>\n      <th>4</th>\n      <td>2015</td>\n      <td>98㎡</td>\n      <td>117万</td>\n      <td>高层</td>\n      <td>1</td>\n      <td>8376.068376068377 元/平米</td>\n    </tr>\n  </tbody>\n</table>\n</div>"
     },
     "metadata": {},
     "execution_count": 4
    }
   ],
   "source": [
    "df['avg_price']=(pd.to_numeric(df['area'].str[:-1])/pd.to_numeric(df['price'].str[:-1])*10000).astype('string')+' 元/平米'\n",
    "df.head()"
   ]
  },
  {
   "cell_type": "code",
   "execution_count": null,
   "metadata": {},
   "outputs": [],
   "source": []
  }
 ]
}