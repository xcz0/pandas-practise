{
 "metadata": {
  "language_info": {
   "codemirror_mode": {
    "name": "ipython",
    "version": 3
   },
   "file_extension": ".py",
   "mimetype": "text/x-python",
   "name": "python",
   "nbconvert_exporter": "python",
   "pygments_lexer": "ipython3",
   "version": "3.8.5-final"
  },
  "orig_nbformat": 2,
  "kernelspec": {
   "name": "python3",
   "display_name": "Python 3",
   "language": "python"
  }
 },
 "nbformat": 4,
 "nbformat_minor": 2,
 "cells": [
  {
   "source": [
    "大体思路：先将数据中的代码与日期作为索引，并且将它们转化为与待填充数据表相同的格式，然后依据填充表筛选数据。将相同年份的值分组，通过自定义函数计算收入熵。最后连接到填充表"
   ],
   "cell_type": "markdown",
   "metadata": {}
  },
  {
   "cell_type": "code",
   "execution_count": 1,
   "metadata": {},
   "outputs": [],
   "source": [
    "import pandas as pd\n",
    "from math import log10\n",
    "df1 = pd.read_csv('company.csv')\n",
    "df2 = pd.read_csv('company_data.csv',index_col=['证券代码','日期'])"
   ]
  },
  {
   "cell_type": "code",
   "execution_count": 2,
   "metadata": {},
   "outputs": [],
   "source": [
    "df2=df2.rename(index=lambda x:f'#{x:0>6}',level=0)\n",
    "df2=df2.rename(index=lambda x:int(x[:4]),level=1)"
   ]
  },
  {
   "cell_type": "code",
   "execution_count": 3,
   "metadata": {},
   "outputs": [
    {
     "output_type": "execute_result",
     "data": {
      "text/plain": [
       "              收入类型          收入额\n",
       "证券代码    日期                     \n",
       "#000007 2014     1  61461724.73\n",
       "        2014     2         0.00\n",
       "        2014     3  61461724.73\n",
       "        2014     4  98631112.52\n",
       "        2014     5  80000000.00"
      ],
      "text/html": "<div>\n<style scoped>\n    .dataframe tbody tr th:only-of-type {\n        vertical-align: middle;\n    }\n\n    .dataframe tbody tr th {\n        vertical-align: top;\n    }\n\n    .dataframe thead th {\n        text-align: right;\n    }\n</style>\n<table border=\"1\" class=\"dataframe\">\n  <thead>\n    <tr style=\"text-align: right;\">\n      <th></th>\n      <th></th>\n      <th>收入类型</th>\n      <th>收入额</th>\n    </tr>\n    <tr>\n      <th>证券代码</th>\n      <th>日期</th>\n      <th></th>\n      <th></th>\n    </tr>\n  </thead>\n  <tbody>\n    <tr>\n      <th rowspan=\"5\" valign=\"top\">#000007</th>\n      <th>2014</th>\n      <td>1</td>\n      <td>61461724.73</td>\n    </tr>\n    <tr>\n      <th>2014</th>\n      <td>2</td>\n      <td>0.00</td>\n    </tr>\n    <tr>\n      <th>2014</th>\n      <td>3</td>\n      <td>61461724.73</td>\n    </tr>\n    <tr>\n      <th>2014</th>\n      <td>4</td>\n      <td>98631112.52</td>\n    </tr>\n    <tr>\n      <th>2014</th>\n      <td>5</td>\n      <td>80000000.00</td>\n    </tr>\n  </tbody>\n</table>\n</div>"
     },
     "metadata": {},
     "execution_count": 3
    }
   ],
   "source": [
    "need_data = [tuple(xi) for xi in df1.values] \n",
    "df_need=df2.loc[df2.index.isin(need_data)]\n",
    "df_need.head()"
   ]
  },
  {
   "cell_type": "code",
   "execution_count": 4,
   "metadata": {},
   "outputs": [],
   "source": [
    "def entropy(x):\n",
    "    #收入熵函数，因为有sum计算，使用lambda 表达式较慢\n",
    "    s=x.sum()\n",
    "    p=[xi/s for xi in x if xi>0]\n",
    "    return sum([pi*log10(pi) for pi in p])"
   ]
  },
  {
   "cell_type": "code",
   "execution_count": 5,
   "metadata": {},
   "outputs": [],
   "source": [
    "df_entropy=pd.DataFrame(df_need.groupby(['证券代码','日期'])['收入额'].agg([('收入熵',entropy)]))\n",
    "df_entropy=df_entropy.reset_index()"
   ]
  },
  {
   "cell_type": "code",
   "execution_count": 6,
   "metadata": {},
   "outputs": [
    {
     "output_type": "execute_result",
     "data": {
      "text/plain": [
       "         证券代码    日期       收入熵\n",
       "0     #000007  2014 -1.333485\n",
       "1     #000403  2015 -1.211936\n",
       "2     #000408  2016 -1.224077\n",
       "3     #000408  2017       NaN\n",
       "4     #000426  2015 -1.339480\n",
       "...       ...   ...       ...\n",
       "1043  #600978  2011 -1.441449\n",
       "1044  #600978  2014 -1.210856\n",
       "1045  #600978  2015 -1.308368\n",
       "1046  #600978  2016 -1.312072\n",
       "1047  #600978  2017       NaN\n",
       "\n",
       "[1048 rows x 3 columns]"
      ],
      "text/html": "<div>\n<style scoped>\n    .dataframe tbody tr th:only-of-type {\n        vertical-align: middle;\n    }\n\n    .dataframe tbody tr th {\n        vertical-align: top;\n    }\n\n    .dataframe thead th {\n        text-align: right;\n    }\n</style>\n<table border=\"1\" class=\"dataframe\">\n  <thead>\n    <tr style=\"text-align: right;\">\n      <th></th>\n      <th>证券代码</th>\n      <th>日期</th>\n      <th>收入熵</th>\n    </tr>\n  </thead>\n  <tbody>\n    <tr>\n      <th>0</th>\n      <td>#000007</td>\n      <td>2014</td>\n      <td>-1.333485</td>\n    </tr>\n    <tr>\n      <th>1</th>\n      <td>#000403</td>\n      <td>2015</td>\n      <td>-1.211936</td>\n    </tr>\n    <tr>\n      <th>2</th>\n      <td>#000408</td>\n      <td>2016</td>\n      <td>-1.224077</td>\n    </tr>\n    <tr>\n      <th>3</th>\n      <td>#000408</td>\n      <td>2017</td>\n      <td>NaN</td>\n    </tr>\n    <tr>\n      <th>4</th>\n      <td>#000426</td>\n      <td>2015</td>\n      <td>-1.339480</td>\n    </tr>\n    <tr>\n      <th>...</th>\n      <td>...</td>\n      <td>...</td>\n      <td>...</td>\n    </tr>\n    <tr>\n      <th>1043</th>\n      <td>#600978</td>\n      <td>2011</td>\n      <td>-1.441449</td>\n    </tr>\n    <tr>\n      <th>1044</th>\n      <td>#600978</td>\n      <td>2014</td>\n      <td>-1.210856</td>\n    </tr>\n    <tr>\n      <th>1045</th>\n      <td>#600978</td>\n      <td>2015</td>\n      <td>-1.308368</td>\n    </tr>\n    <tr>\n      <th>1046</th>\n      <td>#600978</td>\n      <td>2016</td>\n      <td>-1.312072</td>\n    </tr>\n    <tr>\n      <th>1047</th>\n      <td>#600978</td>\n      <td>2017</td>\n      <td>NaN</td>\n    </tr>\n  </tbody>\n</table>\n<p>1048 rows × 3 columns</p>\n</div>"
     },
     "metadata": {},
     "execution_count": 6
    }
   ],
   "source": [
    "df1.merge(df_entropy,how='left',on=['证券代码','日期'])"
   ]
  },
  {
   "cell_type": "code",
   "execution_count": null,
   "metadata": {},
   "outputs": [],
   "source": []
  }
 ]
}