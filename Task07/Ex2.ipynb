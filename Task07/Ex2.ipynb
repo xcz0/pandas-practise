{
 "metadata": {
  "language_info": {
   "codemirror_mode": {
    "name": "ipython",
    "version": 3
   },
   "file_extension": ".py",
   "mimetype": "text/x-python",
   "name": "python",
   "nbconvert_exporter": "python",
   "pygments_lexer": "ipython3",
   "version": "3.8.5-final"
  },
  "orig_nbformat": 2,
  "kernelspec": {
   "name": "python3",
   "display_name": "Python 3",
   "language": "python"
  }
 },
 "nbformat": 4,
 "nbformat_minor": 2,
 "cells": [
  {
   "cell_type": "code",
   "execution_count": 1,
   "metadata": {},
   "outputs": [
    {
     "output_type": "execute_result",
     "data": {
      "text/plain": [
       "               所在群  队长编号  队长_群昵称  队员1 编号  队员_群昵称  队员2 编号 队员_群昵称.1  队员3 编号  \\\n",
       "队伍名称                                                                        \n",
       "你说的都对队  Pandas数据分析     5  山枫叶纷飞        6      蔡      7.0     安慕希      8.0   \n",
       "熊猫人     Pandas数据分析   175     鱼呲呲      44  Heaven    37.0       吕青    50.0   \n",
       "中国移不动   Pandas数据分析   107     Y's     124       🥕    75.0     Vito   146.0   \n",
       "panda   Pandas数据分析    11    太下真君      35      柚子   108.0       My    42.0   \n",
       "一路向北    Pandas数据分析    13     黄元帅      15       化    16.0       未期    18.0   \n",
       "\n",
       "       队员_群昵称.2  队员4 编号  ... 队员6 编号         队员_群昵称.5 队员7 编号  队员_群昵称.6 队员8 编号  \\\n",
       "队伍名称                     ...                                                   \n",
       "你说的都对队       信仰    20.0  ...    NaN              NaN    NaN       NaN    NaN   \n",
       "熊猫人        余柳成荫    82.0  ...   25.0  Never say never   55.0         K  120.0   \n",
       "中国移不动       张小五   186.0  ...    NaN              NaN    NaN       NaN    NaN   \n",
       "panda      星星点灯    45.0  ...  157.0              Zys  158.0        不器  102.0   \n",
       "一路向北       太陽光下    19.0  ...   23.0                🚀  169.0        听风  189.0   \n",
       "\n",
       "          队员_群昵称.7 队员9 编号  队员_群昵称.8 队员10编号  队员_群昵称.9  \n",
       "队伍名称                                                  \n",
       "你说的都对队         NaN    NaN       NaN    NaN       NaN  \n",
       "熊猫人             Y.   28.0     X.Y.Q  151.0    swrong  \n",
       "中国移不动          NaN    NaN       NaN    NaN       NaN  \n",
       "panda         嘉平佑染    NaN       NaN    NaN       NaN  \n",
       "一路向北    Cappuccino    NaN       NaN    NaN       NaN  \n",
       "\n",
       "[5 rows x 23 columns]"
      ],
      "text/html": "<div>\n<style scoped>\n    .dataframe tbody tr th:only-of-type {\n        vertical-align: middle;\n    }\n\n    .dataframe tbody tr th {\n        vertical-align: top;\n    }\n\n    .dataframe thead th {\n        text-align: right;\n    }\n</style>\n<table border=\"1\" class=\"dataframe\">\n  <thead>\n    <tr style=\"text-align: right;\">\n      <th></th>\n      <th>所在群</th>\n      <th>队长编号</th>\n      <th>队长_群昵称</th>\n      <th>队员1 编号</th>\n      <th>队员_群昵称</th>\n      <th>队员2 编号</th>\n      <th>队员_群昵称.1</th>\n      <th>队员3 编号</th>\n      <th>队员_群昵称.2</th>\n      <th>队员4 编号</th>\n      <th>...</th>\n      <th>队员6 编号</th>\n      <th>队员_群昵称.5</th>\n      <th>队员7 编号</th>\n      <th>队员_群昵称.6</th>\n      <th>队员8 编号</th>\n      <th>队员_群昵称.7</th>\n      <th>队员9 编号</th>\n      <th>队员_群昵称.8</th>\n      <th>队员10编号</th>\n      <th>队员_群昵称.9</th>\n    </tr>\n    <tr>\n      <th>队伍名称</th>\n      <th></th>\n      <th></th>\n      <th></th>\n      <th></th>\n      <th></th>\n      <th></th>\n      <th></th>\n      <th></th>\n      <th></th>\n      <th></th>\n      <th></th>\n      <th></th>\n      <th></th>\n      <th></th>\n      <th></th>\n      <th></th>\n      <th></th>\n      <th></th>\n      <th></th>\n      <th></th>\n      <th></th>\n    </tr>\n  </thead>\n  <tbody>\n    <tr>\n      <th>你说的都对队</th>\n      <td>Pandas数据分析</td>\n      <td>5</td>\n      <td>山枫叶纷飞</td>\n      <td>6</td>\n      <td>蔡</td>\n      <td>7.0</td>\n      <td>安慕希</td>\n      <td>8.0</td>\n      <td>信仰</td>\n      <td>20.0</td>\n      <td>...</td>\n      <td>NaN</td>\n      <td>NaN</td>\n      <td>NaN</td>\n      <td>NaN</td>\n      <td>NaN</td>\n      <td>NaN</td>\n      <td>NaN</td>\n      <td>NaN</td>\n      <td>NaN</td>\n      <td>NaN</td>\n    </tr>\n    <tr>\n      <th>熊猫人</th>\n      <td>Pandas数据分析</td>\n      <td>175</td>\n      <td>鱼呲呲</td>\n      <td>44</td>\n      <td>Heaven</td>\n      <td>37.0</td>\n      <td>吕青</td>\n      <td>50.0</td>\n      <td>余柳成荫</td>\n      <td>82.0</td>\n      <td>...</td>\n      <td>25.0</td>\n      <td>Never say never</td>\n      <td>55.0</td>\n      <td>K</td>\n      <td>120.0</td>\n      <td>Y.</td>\n      <td>28.0</td>\n      <td>X.Y.Q</td>\n      <td>151.0</td>\n      <td>swrong</td>\n    </tr>\n    <tr>\n      <th>中国移不动</th>\n      <td>Pandas数据分析</td>\n      <td>107</td>\n      <td>Y's</td>\n      <td>124</td>\n      <td>🥕</td>\n      <td>75.0</td>\n      <td>Vito</td>\n      <td>146.0</td>\n      <td>张小五</td>\n      <td>186.0</td>\n      <td>...</td>\n      <td>NaN</td>\n      <td>NaN</td>\n      <td>NaN</td>\n      <td>NaN</td>\n      <td>NaN</td>\n      <td>NaN</td>\n      <td>NaN</td>\n      <td>NaN</td>\n      <td>NaN</td>\n      <td>NaN</td>\n    </tr>\n    <tr>\n      <th>panda</th>\n      <td>Pandas数据分析</td>\n      <td>11</td>\n      <td>太下真君</td>\n      <td>35</td>\n      <td>柚子</td>\n      <td>108.0</td>\n      <td>My</td>\n      <td>42.0</td>\n      <td>星星点灯</td>\n      <td>45.0</td>\n      <td>...</td>\n      <td>157.0</td>\n      <td>Zys</td>\n      <td>158.0</td>\n      <td>不器</td>\n      <td>102.0</td>\n      <td>嘉平佑染</td>\n      <td>NaN</td>\n      <td>NaN</td>\n      <td>NaN</td>\n      <td>NaN</td>\n    </tr>\n    <tr>\n      <th>一路向北</th>\n      <td>Pandas数据分析</td>\n      <td>13</td>\n      <td>黄元帅</td>\n      <td>15</td>\n      <td>化</td>\n      <td>16.0</td>\n      <td>未期</td>\n      <td>18.0</td>\n      <td>太陽光下</td>\n      <td>19.0</td>\n      <td>...</td>\n      <td>23.0</td>\n      <td>🚀</td>\n      <td>169.0</td>\n      <td>听风</td>\n      <td>189.0</td>\n      <td>Cappuccino</td>\n      <td>NaN</td>\n      <td>NaN</td>\n      <td>NaN</td>\n      <td>NaN</td>\n    </tr>\n  </tbody>\n</table>\n<p>5 rows × 23 columns</p>\n</div>"
     },
     "metadata": {},
     "execution_count": 1
    }
   ],
   "source": [
    "import pandas as pd\n",
    "df=pd.read_excel('组队信息汇总表（Pandas）.xlsx',index_col='队伍名称')\n",
    "df.head()"
   ]
  },
  {
   "cell_type": "code",
   "execution_count": 2,
   "metadata": {},
   "outputs": [
    {
     "output_type": "execute_result",
     "data": {
      "text/plain": [
       "Index(['你说的都对队', '熊猫人', '中国移不动', 'panda', '一路向北', '西部战车', 'Why—贰肆', '师承潘大师队',\n",
       "       '扫地僧', '翻滚吧，熊猫', 'Kung Fu Pandas', '不急不躁我最棒✌️', '没想好叫什么队', '鲲鲲玩Python',\n",
       "       'pandas gogogo', 'joyful', 'pandas从入门到精通', 'Attention！keep干饭', 'Null',\n",
       "       '七星联盟', '应如是'],\n",
       "      dtype='object', name='队伍名称')"
      ]
     },
     "metadata": {},
     "execution_count": 2
    }
   ],
   "source": [
    "df.index"
   ]
  },
  {
   "cell_type": "code",
   "execution_count": 3,
   "metadata": {},
   "outputs": [
    {
     "output_type": "execute_result",
     "data": {
      "text/plain": [
       "            编号       昵称  是否队长\n",
       "队伍名称                         \n",
       "你说的都对队     5.0   山枫叶纷飞    1.0\n",
       "熊猫人      175.0      鱼呲呲   1.0\n",
       "中国移不动    107.0      Y's   1.0\n",
       "panda     11.0     太下真君   1.0\n",
       "一路向北      13.0      黄元帅   1.0\n",
       "...        ...      ...   ...\n",
       "熊猫人       28.0    X.Y.Q   0.0\n",
       "Why—贰肆     1.0  MoXQian   0.0\n",
       "师承潘大师队   159.0       遇安   0.0\n",
       "没想好叫什么队  117.0  xxxxxxl   0.0\n",
       "熊猫人      151.0   swrong   0.0\n",
       "\n",
       "[146 rows x 3 columns]"
      ],
      "text/html": "<div>\n<style scoped>\n    .dataframe tbody tr th:only-of-type {\n        vertical-align: middle;\n    }\n\n    .dataframe tbody tr th {\n        vertical-align: top;\n    }\n\n    .dataframe thead th {\n        text-align: right;\n    }\n</style>\n<table border=\"1\" class=\"dataframe\">\n  <thead>\n    <tr style=\"text-align: right;\">\n      <th></th>\n      <th>编号</th>\n      <th>昵称</th>\n      <th>是否队长</th>\n    </tr>\n    <tr>\n      <th>队伍名称</th>\n      <th></th>\n      <th></th>\n      <th></th>\n    </tr>\n  </thead>\n  <tbody>\n    <tr>\n      <th>你说的都对队</th>\n      <td>5.0</td>\n      <td>山枫叶纷飞</td>\n      <td>1.0</td>\n    </tr>\n    <tr>\n      <th>熊猫人</th>\n      <td>175.0</td>\n      <td>鱼呲呲</td>\n      <td>1.0</td>\n    </tr>\n    <tr>\n      <th>中国移不动</th>\n      <td>107.0</td>\n      <td>Y's</td>\n      <td>1.0</td>\n    </tr>\n    <tr>\n      <th>panda</th>\n      <td>11.0</td>\n      <td>太下真君</td>\n      <td>1.0</td>\n    </tr>\n    <tr>\n      <th>一路向北</th>\n      <td>13.0</td>\n      <td>黄元帅</td>\n      <td>1.0</td>\n    </tr>\n    <tr>\n      <th>...</th>\n      <td>...</td>\n      <td>...</td>\n      <td>...</td>\n    </tr>\n    <tr>\n      <th>熊猫人</th>\n      <td>28.0</td>\n      <td>X.Y.Q</td>\n      <td>0.0</td>\n    </tr>\n    <tr>\n      <th>Why—贰肆</th>\n      <td>1.0</td>\n      <td>MoXQian</td>\n      <td>0.0</td>\n    </tr>\n    <tr>\n      <th>师承潘大师队</th>\n      <td>159.0</td>\n      <td>遇安</td>\n      <td>0.0</td>\n    </tr>\n    <tr>\n      <th>没想好叫什么队</th>\n      <td>117.0</td>\n      <td>xxxxxxl</td>\n      <td>0.0</td>\n    </tr>\n    <tr>\n      <th>熊猫人</th>\n      <td>151.0</td>\n      <td>swrong</td>\n      <td>0.0</td>\n    </tr>\n  </tbody>\n</table>\n<p>146 rows × 3 columns</p>\n</div>"
     },
     "metadata": {},
     "execution_count": 3
    }
   ],
   "source": [
    "L = []\n",
    "for i in range(0,11):\n",
    "\n",
    "    if i==0:\n",
    "        df_temp=df[['队长编号','队长_群昵称']]\n",
    "        df_temp=df_temp.rename(columns={'队长编号':'编号','队长_群昵称':'昵称'})\n",
    "        df_temp.loc[:, '是否队长']=1\n",
    "    \n",
    "    else:\n",
    "        code_col=f'队员{i:<2}编号'\n",
    "        if i==1:\n",
    "            name_col='队员_群昵称'\n",
    "        else:\n",
    "            name_col=f'队员_群昵称.{i-1}'\n",
    "\n",
    "        df_temp=df[[code_col,name_col]].dropna(how='any', inplace=False)\n",
    "        df_temp=df_temp.rename(columns={code_col:'编号',name_col:'昵称'})\n",
    "        df_temp.loc[:, '是否队长'] = 0\n",
    "\n",
    "    L.append(df_temp)\n",
    "\n",
    "df_new = pd.concat(L)\n",
    "df_new"
   ]
  },
  {
   "cell_type": "code",
   "execution_count": null,
   "metadata": {},
   "outputs": [],
   "source": []
  }
 ]
}