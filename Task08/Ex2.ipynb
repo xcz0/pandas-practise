{
 "metadata": {
  "language_info": {
   "codemirror_mode": {
    "name": "ipython",
    "version": 3
   },
   "file_extension": ".py",
   "mimetype": "text/x-python",
   "name": "python",
   "nbconvert_exporter": "python",
   "pygments_lexer": "ipython3",
   "version": "3.8.5-final"
  },
  "orig_nbformat": 2,
  "kernelspec": {
   "name": "python3",
   "display_name": "Python 3",
   "language": "python"
  }
 },
 "nbformat": 4,
 "nbformat_minor": 2,
 "cells": [
  {
   "cell_type": "code",
   "execution_count": 1,
   "metadata": {},
   "outputs": [],
   "source": [
    "import numpy as np\n",
    "import pandas as pd\n",
    "from sklearn.neighbors import KNeighborsClassifier\n",
    "from sklearn.neighbors import KNeighborsRegressor"
   ]
  },
  {
   "cell_type": "code",
   "execution_count": 2,
   "metadata": {},
   "outputs": [
    {
     "output_type": "execute_result",
     "data": {
      "text/plain": [
       "    X1   X2 Color\n",
       "0 -2.5  2.8  Blue\n",
       "1 -1.5  1.8  Blue\n",
       "2 -0.8  2.8  Blue\n",
       "3 -0.3  0.8  Blue\n",
       "4  1.1  2.1  Blue"
      ],
      "text/html": "<div>\n<style scoped>\n    .dataframe tbody tr th:only-of-type {\n        vertical-align: middle;\n    }\n\n    .dataframe tbody tr th {\n        vertical-align: top;\n    }\n\n    .dataframe thead th {\n        text-align: right;\n    }\n</style>\n<table border=\"1\" class=\"dataframe\">\n  <thead>\n    <tr style=\"text-align: right;\">\n      <th></th>\n      <th>X1</th>\n      <th>X2</th>\n      <th>Color</th>\n    </tr>\n  </thead>\n  <tbody>\n    <tr>\n      <th>0</th>\n      <td>-2.5</td>\n      <td>2.8</td>\n      <td>Blue</td>\n    </tr>\n    <tr>\n      <th>1</th>\n      <td>-1.5</td>\n      <td>1.8</td>\n      <td>Blue</td>\n    </tr>\n    <tr>\n      <th>2</th>\n      <td>-0.8</td>\n      <td>2.8</td>\n      <td>Blue</td>\n    </tr>\n    <tr>\n      <th>3</th>\n      <td>-0.3</td>\n      <td>0.8</td>\n      <td>Blue</td>\n    </tr>\n    <tr>\n      <th>4</th>\n      <td>1.1</td>\n      <td>2.1</td>\n      <td>Blue</td>\n    </tr>\n  </tbody>\n</table>\n</div>"
     },
     "metadata": {},
     "execution_count": 2
    }
   ],
   "source": [
    "df = pd.read_excel('../data/color.xlsx',engine='openpyxl')\n",
    "df.head()"
   ]
  },
  {
   "cell_type": "code",
   "execution_count": 3,
   "metadata": {},
   "outputs": [
    {
     "output_type": "execute_result",
     "data": {
      "text/plain": [
       "array(['Yellow'], dtype=object)"
      ]
     },
     "metadata": {},
     "execution_count": 3
    }
   ],
   "source": [
    "clf = KNeighborsClassifier(n_neighbors=6)\n",
    "clf.fit(df.iloc[:,:2], df.Color)\n",
    "clf.predict([[0.8, -0.2]])"
   ]
  },
  {
   "cell_type": "code",
   "execution_count": 4,
   "metadata": {},
   "outputs": [
    {
     "output_type": "execute_result",
     "data": {
      "text/plain": [
       "'Yellow'"
      ]
     },
     "metadata": {},
     "execution_count": 4
    }
   ],
   "source": [
    "def pre(point,df):\n",
    "    df_dummies = pd.get_dummies(df.Color)\n",
    "    reg = KNeighborsRegressor(n_neighbors=6)\n",
    "    L=[]\n",
    "    for col in df_dummies.columns:\n",
    "        reg.fit(df.iloc[:,:2], df_dummies[col])\n",
    "        reg.predict([point])\n",
    "        L.append(reg.predict([point])[0])\n",
    "    return df_dummies.columns[L.index(max(L))]\n",
    "pre([0.8, -0.2],df)"
   ]
  },
  {
   "cell_type": "code",
   "execution_count": 5,
   "metadata": {},
   "outputs": [
    {
     "output_type": "execute_result",
     "data": {
      "text/plain": [
       "        ID  Age Employment    Marital     Income  Gender  Hours\n",
       "0  1004641   38    Private  Unmarried   81838.00  Female     72\n",
       "1  1010229   35    Private     Absent   72099.00    Male     30\n",
       "2  1024587   32    Private   Divorced  154676.74    Male     40\n",
       "3  1038288   45    Private    Married   27743.82    Male     55\n",
       "4  1044221   60    Private    Married    7568.23    Male     40"
      ],
      "text/html": "<div>\n<style scoped>\n    .dataframe tbody tr th:only-of-type {\n        vertical-align: middle;\n    }\n\n    .dataframe tbody tr th {\n        vertical-align: top;\n    }\n\n    .dataframe thead th {\n        text-align: right;\n    }\n</style>\n<table border=\"1\" class=\"dataframe\">\n  <thead>\n    <tr style=\"text-align: right;\">\n      <th></th>\n      <th>ID</th>\n      <th>Age</th>\n      <th>Employment</th>\n      <th>Marital</th>\n      <th>Income</th>\n      <th>Gender</th>\n      <th>Hours</th>\n    </tr>\n  </thead>\n  <tbody>\n    <tr>\n      <th>0</th>\n      <td>1004641</td>\n      <td>38</td>\n      <td>Private</td>\n      <td>Unmarried</td>\n      <td>81838.00</td>\n      <td>Female</td>\n      <td>72</td>\n    </tr>\n    <tr>\n      <th>1</th>\n      <td>1010229</td>\n      <td>35</td>\n      <td>Private</td>\n      <td>Absent</td>\n      <td>72099.00</td>\n      <td>Male</td>\n      <td>30</td>\n    </tr>\n    <tr>\n      <th>2</th>\n      <td>1024587</td>\n      <td>32</td>\n      <td>Private</td>\n      <td>Divorced</td>\n      <td>154676.74</td>\n      <td>Male</td>\n      <td>40</td>\n    </tr>\n    <tr>\n      <th>3</th>\n      <td>1038288</td>\n      <td>45</td>\n      <td>Private</td>\n      <td>Married</td>\n      <td>27743.82</td>\n      <td>Male</td>\n      <td>55</td>\n    </tr>\n    <tr>\n      <th>4</th>\n      <td>1044221</td>\n      <td>60</td>\n      <td>Private</td>\n      <td>Married</td>\n      <td>7568.23</td>\n      <td>Male</td>\n      <td>40</td>\n    </tr>\n  </tbody>\n</table>\n</div>"
     },
     "metadata": {},
     "execution_count": 5
    }
   ],
   "source": [
    "df = pd.read_csv('../data/audit.csv')\n",
    "df.head()"
   ]
  },
  {
   "source": [
    "先将婚配、性别转化为数字，再添加年龄、收入和时间（注意要归一化），最后加上雇佣情况。将数据根据是否有雇佣情况分成训练集和测试集。将雇佣情况转化为数值向量。遍历每种情况，将训练集传入训练器，预判测试集，综合情况结果。寻找最可能情况，转化为原形式，再填入原数据。"
   ],
   "cell_type": "markdown",
   "metadata": {}
  },
  {
   "cell_type": "code",
   "execution_count": 8,
   "metadata": {},
   "outputs": [
    {
     "output_type": "execute_result",
     "data": {
      "text/plain": [
       "ID            0\n",
       "Age           0\n",
       "Employment    0\n",
       "Marital       0\n",
       "Income        0\n",
       "Gender        0\n",
       "Hours         0\n",
       "dtype: int64"
      ]
     },
     "metadata": {},
     "execution_count": 8
    }
   ],
   "source": [
    "res_df = df.copy()\n",
    "fea_df=pd.concat([pd.get_dummies(df[['Marital', 'Gender']]),df[['Age','Income','Hours']].apply(lambda x:(x-x.min())/(x.max()-x.min())), df.Employment],1)\n",
    "X_train = fea_df.loc[fea_df.Employment.notna(),:]\n",
    "X_test = fea_df.loc[fea_df.Employment.isna(),:]\n",
    "df_dummies = pd.get_dummies(X_train.Employment)\n",
    "stack_list = []\n",
    "for col in df_dummies.columns:\n",
    "    clf = KNeighborsRegressor(n_neighbors=6)\n",
    "    clf.fit(X_train.iloc[:,:-1], df_dummies[col])\n",
    "    res = clf.predict(X_test.iloc[:,:-1]).reshape(-1,1)\n",
    "    stack_list.append(res)\n",
    "\n",
    "code_res = pd.Series(np.hstack(stack_list).argmax(1))\n",
    "cat_res = code_res.replace(dict(zip(list(range(df_dummies.shape[0])),df_dummies.columns)))\n",
    "res_df.loc[res_df.Employment.isna(), 'Employment'] = cat_res.values\n",
    "res_df.isna().sum()"
   ]
  },
  {
   "cell_type": "code",
   "execution_count": null,
   "metadata": {},
   "outputs": [],
   "source": []
  }
 ]
}